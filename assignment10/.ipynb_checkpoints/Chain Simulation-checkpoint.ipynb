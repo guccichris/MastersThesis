{
 "cells": [
  {
   "cell_type": "code",
   "execution_count": 241,
   "metadata": {},
   "outputs": [],
   "source": [
    "import matplotlib.pyplot as plt\n",
    "import numpy as np\n",
    "from numpy.linalg import norm\n",
    "from scipy.integrate import odeint\n",
    "from IPython import embed\n",
    "import pprint\n",
    "from ipywidgets import interact, interactive, fixed, interact_manual, jslink\n",
    "import ipywidgets as widgets\n",
    "import ipyvolume as ipv\n",
    "import ipyvolume.pylab as p3\n",
    "import traitlets"
   ]
  },
  {
   "cell_type": "code",
   "execution_count": 279,
   "metadata": {},
   "outputs": [],
   "source": [
    "# define the number of floating atoms\n",
    "floaters = np.zeros(4*3)\n",
    "n = len(floaters)\n",
    "m = n/3\n",
    "\n",
    "# set the positions of the floating atoms\n",
    "count = 0\n",
    "for i in range(0,n,3):\n",
    "    floaters[i] = count\n",
    "    floaters[i+1] = count\n",
    "    floaters[i+2] = 1\n",
    "    count += 1"
   ]
  },
  {
   "cell_type": "code",
   "execution_count": 243,
   "metadata": {},
   "outputs": [],
   "source": [
    "# set number of substrate atoms (substrate will be 2*ns + 1 side lengths)\n",
    "ns = 10"
   ]
  },
  {
   "cell_type": "code",
   "execution_count": 244,
   "metadata": {},
   "outputs": [],
   "source": [
    "# set the substrate parameters\n",
    "h_x = 1\n",
    "h_y = 1"
   ]
  },
  {
   "cell_type": "code",
   "execution_count": 245,
   "metadata": {},
   "outputs": [],
   "source": [
    "# set the VDW parameters\n",
    "w = 1\n",
    "sigma = 1"
   ]
  },
  {
   "cell_type": "code",
   "execution_count": 246,
   "metadata": {},
   "outputs": [],
   "source": [
    "# set the spring parameters\n",
    "k_s = 5\n",
    "l = 1"
   ]
  },
  {
   "cell_type": "code",
   "execution_count": 247,
   "metadata": {},
   "outputs": [],
   "source": [
    "# define the time interval for the gradient flow\n",
    "t = np.linspace(0,1,15)"
   ]
  },
  {
   "cell_type": "code",
   "execution_count": 280,
   "metadata": {},
   "outputs": [],
   "source": [
    "# this is the RHS of the system of ODEs solved by odeint. It returns the forces\n",
    "# acting on each floater in the x, y and z directions\n",
    "def spring_and_VDWForce(floaters, t):\n",
    "\n",
    "    # compute number of atoms\n",
    "    m = int(len(floaters)/3)\n",
    "    n = int(len(floaters))\n",
    "\n",
    "    # split the atoms into 1x3 arrays\n",
    "    r = [[0 for i in range(3)] for j in range(m)]\n",
    "    for i in range(m):\n",
    "        r[i] = floaters[i*3:i*3+3]\n",
    "\n",
    "    # initialize arrays for the spring forces and VDW forces\n",
    "    combined_spring_forces = np.zeros(n)\n",
    "    combined_VDW_forces = np.zeros(n)\n",
    "    VDW_force = [[0 for i in range(3)] for j in range(m)]\n",
    "    spring_force = [[0 for i in range(3)] for j in range(m)]\n",
    "\n",
    "    # define the size of the substrate surrounding the floaters\n",
    "    a = np.arange(-ns,ns+1,1)\n",
    "\n",
    "    # compute the distances of the floating atom from the substrate atoms\n",
    "    # and the VDW forces acting on them as a result\n",
    "    for j in range(len(a)):\n",
    "        for i in range(len(a)):\n",
    "            for k in range(m):\n",
    "\n",
    "                # compute the offsets\n",
    "                k_x = (r[k][0] + .5)%h_x\n",
    "                k_y = (r[k][1] + .5)%h_y\n",
    "\n",
    "                # compute dx, dy, dz and rhat\n",
    "                dx = k_x - .5 + a[i]*h_x\n",
    "                dy = k_y - .5 + a[j]*h_y\n",
    "                dz = r[k][2]\n",
    "                rhat = np.sqrt(dx**2 + dy**2 + dz**2)\n",
    "\n",
    "                # this is the gradient of V (computed by hand), it is used to compute the\n",
    "                # VDW forces acting on the floating atoms\n",
    "                gradV_common = (12*w*((sigma**6)/(rhat**8)-(sigma**12)/(rhat**14)))\n",
    "                VDW_force[k] = -gradV_common*np.array([dx, dy, dz])\n",
    "\n",
    "            # combine the VDW forces for all floating atoms\n",
    "            combined_VDW_forces += np.hstack(VDW_force)\n",
    "\n",
    "    # this is the gradient of E_s (computed by hand), it is used to compute the\n",
    "    # spring forces acting on the atoms\n",
    "    for i in range(m-1):\n",
    "        gradE_common = k_s*(norm(r[i]-r[i+1]) - l)/norm(r[i] - r[i+1])\n",
    "        current_sf = -gradE_common*np.array([(r[i][0]-r[i+1][0]),(r[i][1]-r[i+1][1]),(r[i][2]-r[i+1][2])])\n",
    "        spring_force[i] += current_sf\n",
    "        spring_force[i+1] = -current_sf\n",
    "\n",
    "\n",
    "    combined_spring_forces = np.hstack(spring_force)\n",
    "    total_spring_and_VDW_force = np.add(combined_spring_forces, combined_VDW_forces)\n",
    "\n",
    "    return total_spring_and_VDW_force\n"
   ]
  },
  {
   "cell_type": "code",
   "execution_count": 281,
   "metadata": {},
   "outputs": [],
   "source": [
    "# compute the changing positions of the atoms as a result of the spring\n",
    "# and VDW forces acting on them\n",
    "gFlow = odeint(spring_and_VDWForce, floaters, t, atol=1.4e-10)"
   ]
  },
  {
   "cell_type": "code",
   "execution_count": 282,
   "metadata": {},
   "outputs": [],
   "source": [
    "# define arrays of x, y and z coordinates to create an animated scatter plot\n",
    "x = np.zeros((len(t),int(m)))\n",
    "y = np.zeros((len(t),int(m)))\n",
    "z = np.zeros((len(t),int(m)))\n",
    "for i in range(len(t)):\n",
    "    for j in range(int(m)):\n",
    "        x[i][j] = gFlow[i,j*3]\n",
    "        y[i][j] = gFlow[i,j*3+1]\n",
    "        z[i][j] = gFlow[i,j*3+2]"
   ]
  },
  {
   "cell_type": "code",
   "execution_count": 283,
   "metadata": {},
   "outputs": [
    {
     "data": {
      "application/vnd.jupyter.widget-view+json": {
       "model_id": "be24f80f93894fe08dc88137844a3e94",
       "version_major": 2,
       "version_minor": 0
      },
      "text/html": [
       "<p>Failed to display Jupyter Widget of type <code>VBox</code>.</p>\n",
       "<p>\n",
       "  If you're reading this message in Jupyter Notebook or JupyterLab, it may mean\n",
       "  that the widgets JavaScript is still loading. If this message persists, it\n",
       "  likely means that the widgets JavaScript library is either not installed or\n",
       "  not enabled. See the <a href=\"https://ipywidgets.readthedocs.io/en/stable/user_install.html\">Jupyter\n",
       "  Widgets Documentation</a> for setup instructions.\n",
       "</p>\n",
       "<p>\n",
       "  If you're reading this message in another notebook frontend (for example, a static\n",
       "  rendering on GitHub or <a href=\"https://nbviewer.jupyter.org/\">NBViewer</a>),\n",
       "  it may mean that your frontend doesn't currently support widgets.\n",
       "</p>\n"
      ],
      "text/plain": [
       "VBox(children=(VBox(children=(Figure(animation=200.0, animation_exponent=1.0, camera_center=[0.0, 0.0, 0.0], height=500, matrix_projection=[0.0, 0.0, 0.0, 0.0, 0.0, 0.0, 0.0, 0.0, 0.0, 0.0, 0.0, 0.0, 0.0, 0.0, 0.0, 0.0], matrix_world=[0.0, 0.0, 0.0, 0.0, 0.0, 0.0, 0.0, 0.0, 0.0, 0.0, 0.0, 0.0, 0.0, 0.0, 0.0, 0.0], scatters=[Scatter(color_selected=array('white',\n",
       "      dtype='<U5'), size=array(2), size_selected=array(2.6), x=array([[ 0.        ,  1.        ,  2.        ,  3.        ],\n",
       "       [-0.16402382,  0.97617273,  2.02382727,  3.16402382],\n",
       "       [-0.38765538,  0.90807161,  2.09192839,  3.38765538],\n",
       "       [-0.5039187 ,  0.80887377,  2.19112623,  3.5039187 ],\n",
       "       [-0.51030542,  0.72657839,  2.27342161,  3.51030542],\n",
       "       [-0.51536832,  0.65019279,  2.34980721,  3.51536832],\n",
       "       [-0.51990487,  0.5884485 ,  2.4115515 ,  3.51990487],\n",
       "       [-0.52182272,  0.56873357,  2.43126643,  3.52182272],\n",
       "       [-0.52212604,  0.5663175 ,  2.4336825 ,  3.52212604],\n",
       "       [-0.52215678,  0.56609174,  2.43390826,  3.52215678],\n",
       "       [-0.52215961,  0.56607129,  2.43392871,  3.52215961],\n",
       "       [-0.52215986,  0.56606944,  2.43393056,  3.52215986],\n",
       "       [-0.52215988,  0.56606927,  2.43393073,  3.52215988],\n",
       "       [-0.52215989,  0.56606926,  2.43393074,  3.52215989],\n",
       "       [-0.52215989,  0.56606926,  2.43393074,  3.52215989]]), y=array([[ 0.        ,  1.        ,  2.        ,  3.        ],\n",
       "       [-0.16402382,  0.97617273,  2.02382727,  3.16402382],\n",
       "       [-0.38765538,  0.90807161,  2.09192839,  3.38765538],\n",
       "       [-0.5039187 ,  0.80887377,  2.19112623,  3.5039187 ],\n",
       "       [-0.51030542,  0.72657839,  2.27342161,  3.51030542],\n",
       "       [-0.51536832,  0.65019279,  2.34980721,  3.51536832],\n",
       "       [-0.51990487,  0.5884485 ,  2.4115515 ,  3.51990487],\n",
       "       [-0.52182272,  0.56873357,  2.43126643,  3.52182272],\n",
       "       [-0.52212604,  0.5663175 ,  2.4336825 ,  3.52212604],\n",
       "       [-0.52215678,  0.56609174,  2.43390826,  3.52215678],\n",
       "       [-0.52215961,  0.56607129,  2.43392871,  3.52215961],\n",
       "       [-0.52215986,  0.56606944,  2.43393056,  3.52215986],\n",
       "       [-0.52215988,  0.56606927,  2.43393073,  3.52215988],\n",
       "       [-0.52215989,  0.56606926,  2.43393074,  3.52215989],\n",
       "       [-0.52215989,  0.56606926,  2.43393074,  3.52215989]]), z=array([[ 1.        ,  1.        ,  1.        ,  1.        ],\n",
       "       [ 0.93805911,  0.96488171,  0.96488171,  0.93805911],\n",
       "       [ 0.79312079,  0.95703792,  0.95703792,  0.79312079],\n",
       "       [ 0.70067892,  0.92376029,  0.92376029,  0.70067892],\n",
       "       [ 0.70097987,  0.87434102,  0.87434102,  0.70097987],\n",
       "       [ 0.70185553,  0.81154222,  0.81154222,  0.70185553],\n",
       "       [ 0.70327501,  0.75135421,  0.75135421,  0.70327501],\n",
       "       [ 0.70407904,  0.73165332,  0.73165332,  0.70407904],\n",
       "       [ 0.7042194 ,  0.72928615,  0.72928615,  0.7042194 ],\n",
       "       [ 0.70423392,  0.7290659 ,  0.7290659 ,  0.70423392],\n",
       "       [ 0.70423526,  0.72904596,  0.72904596,  0.70423526],\n",
       "       [ 0.70423538,  0.72904416,  0.72904416,  0.70423538],\n",
       "       [ 0.70423539,  0.729044  ,  0.729044  ,  0.70423539],\n",
       "       [ 0.70423539,  0.72904398,  0.72904398,  0.70423539],\n",
       "       [ 0.70423539,  0.72904398,  0.72904398,  0.70423539]]))], style={'axes': {'visible': True, 'label': {'color': 'black'}, 'ticklabel': {'color': 'black'}, 'color': 'black'}, 'box': {'visible': True}, 'background-color': 'white'}, tf=None, width=400, xlim=[-4.0, 4.0], ylim=[-4.0, 4.0], zlim=[0.0, 1.0]), HBox(children=(Play(value=0, interval=200, max=14), FloatSlider(value=0.0, max=14.0, step=1.0))))), Label(value='Parameter sliders:'), IntSlider(value=4, continuous_update=False, description='ns', max=15), IntSlider(value=1, continuous_update=False, description='w', max=10), IntSlider(value=1, continuous_update=False, description='sigma', max=10), IntSlider(value=2, continuous_update=False, description='l', max=10), FloatText(value=5.0, description='k_s', step=0.1)))"
      ]
     },
     "metadata": {},
     "output_type": "display_data"
    }
   ],
   "source": [
    "# create an ipyvolume.pylab figure\n",
    "p3.figure()\n",
    "\n",
    "# plot a scatterplot of the arrays defined above in the figure\n",
    "s = p3.scatter(x, y, z)\n",
    "\n",
    "# set the x, y and z limits of the figure\n",
    "p3.xlim(-4,4)\n",
    "p3.ylim(-4,4)\n",
    "p3.zlim(0,1)\n",
    "\n",
    "# add animation controls to the figure\n",
    "p3.animation_control(s)\n",
    "\n",
    "# add sliders for parameters\n",
    "ns_slider = widgets.IntSlider(min=0, max=15, step=1, value=ns, description='ns', continuous_update=False)\n",
    "w_slider = widgets.IntSlider(min=0, max=10, step=1, value=w, description='w', continuous_update=False)\n",
    "sigma_slider = widgets.IntSlider(min=0, max=10, step=1, value=sigma, description='sigma', continuous_update=False)\n",
    "k_s_text = widgets.FloatText(min=0., max=500., step=.1, value=k_s, description='k_s', continuous_update=False)\n",
    "l_slider = widgets.IntSlider(min=0, max=10, step=1, value=l, description='l', continuous_update=False)\n",
    "\n",
    "# create handler functions to change the values of the parameters globally when the sliders change\n",
    "def on_ns_slider_change(change):\n",
    "    global ns\n",
    "    ns = change.new\n",
    "\n",
    "def on_w_slider_change(change):\n",
    "    global w\n",
    "    w = change.new\n",
    "\n",
    "def on_sigma_slider_change(change):\n",
    "    global sigma\n",
    "    sigma = sigma.new\n",
    "    \n",
    "def on_k_s_text_change(change):\n",
    "    global k_s\n",
    "    k_s = change.new\n",
    "    \n",
    "def on_l_slider_change(change):\n",
    "    global l\n",
    "    l = change.new\n",
    "\n",
    "# set the sliders to call their handler functions any time the sliders are moved\n",
    "ns_slider.observe(on_ns_slider_change, names='value')\n",
    "w_slider.observe(on_w_slider_change, names='value')\n",
    "sigma_slider.observe(on_sigma_slider_change, names='value')\n",
    "k_s_text.observe(on_k_s_text_change, names='value')\n",
    "l_slider.observe(on_l_slider_change, names='value')\n",
    "\n",
    "label = widgets.Label('Parameter sliders:')\n",
    "parameters = widgets.VBox([ipv.gcc(), label, ns_slider, w_slider, sigma_slider, l_slider, k_s_text])\n",
    "display(parameters)"
   ]
  },
  {
   "cell_type": "code",
   "execution_count": 277,
   "metadata": {
    "scrolled": false
   },
   "outputs": [
    {
     "name": "stdout",
     "output_type": "stream",
     "text": [
      "array([[ 0.        ,  0.        ,  1.        ,  1.        ,  1.        ,\n",
      "         1.        ,  2.        ,  2.        ,  1.        ],\n",
      "       [-0.16106789, -0.16106789,  0.93890511,  1.        ,  1.        ,\n",
      "         0.96553726,  2.16106789,  2.16106789,  0.93890511],\n",
      "       [-0.36592957, -0.36592957,  0.81064631,  1.        ,  1.        ,\n",
      "         0.96566222,  2.36592957,  2.36592957,  0.81064631],\n",
      "       [-0.49189699, -0.49189699,  0.70234924,  1.        ,  1.        ,\n",
      "         0.96408527,  2.49189699,  2.49189699,  0.70234924],\n",
      "       [-0.49392247, -0.49392247,  0.70182102,  1.        ,  1.        ,\n",
      "         0.96402786,  2.49392247,  2.49392247,  0.70182102],\n",
      "       [-0.49392981, -0.49392981,  0.70181981,  1.        ,  1.        ,\n",
      "         0.96402765,  2.49392981,  2.49392981,  0.70181981],\n",
      "       [-0.49392984, -0.49392984,  0.7018198 ,  1.        ,  1.        ,\n",
      "         0.96402765,  2.49392984,  2.49392984,  0.7018198 ],\n",
      "       [-0.49392984, -0.49392984,  0.7018198 ,  1.        ,  1.        ,\n",
      "         0.96402765,  2.49392984,  2.49392984,  0.7018198 ],\n",
      "       [-0.49392984, -0.49392984,  0.7018198 ,  1.        ,  1.        ,\n",
      "         0.96402765,  2.49392984,  2.49392984,  0.7018198 ],\n",
      "       [-0.49392984, -0.49392984,  0.7018198 ,  1.        ,  1.        ,\n",
      "         0.96402765,  2.49392984,  2.49392984,  0.7018198 ],\n",
      "       [-0.49392984, -0.49392984,  0.7018198 ,  1.        ,  1.        ,\n",
      "         0.96402765,  2.49392984,  2.49392984,  0.7018198 ],\n",
      "       [-0.49392984, -0.49392984,  0.7018198 ,  1.        ,  1.        ,\n",
      "         0.96402765,  2.49392984,  2.49392984,  0.7018198 ],\n",
      "       [-0.49392984, -0.49392984,  0.7018198 ,  1.        ,  1.        ,\n",
      "         0.96402765,  2.49392984,  2.49392984,  0.7018198 ],\n",
      "       [-0.49392984, -0.49392984,  0.7018198 ,  1.        ,  1.        ,\n",
      "         0.96402765,  2.49392984,  2.49392984,  0.7018198 ],\n",
      "       [-0.49392984, -0.49392984,  0.7018198 ,  1.        ,  1.        ,\n",
      "         0.96402765,  2.49392984,  2.49392984,  0.7018198 ]])\n"
     ]
    }
   ],
   "source": [
    "# print the output of odeint\n",
    "pprint.pprint(gFlow)"
   ]
  },
  {
   "cell_type": "code",
   "execution_count": 278,
   "metadata": {},
   "outputs": [
    {
     "name": "stdout",
     "output_type": "stream",
     "text": [
      "2.12894473397, \n",
      "2.12894473397, \n"
     ]
    }
   ],
   "source": [
    "# compute and print the distance between each pair of bonded atoms\n",
    "# for debugging purposes\n",
    "for i in range(int(m)-1):\n",
    "    dist = norm(gFlow[-1,i*3:i*3+3] - gFlow[-1,i*3+3:i*3+6])\n",
    "    print(str(dist)+', ')"
   ]
  },
  {
   "cell_type": "code",
   "execution_count": null,
   "metadata": {},
   "outputs": [],
   "source": []
  }
 ],
 "metadata": {
  "kernelspec": {
   "display_name": "Python 3",
   "language": "python",
   "name": "python3"
  },
  "language_info": {
   "codemirror_mode": {
    "name": "ipython",
    "version": 3
   },
   "file_extension": ".py",
   "mimetype": "text/x-python",
   "name": "python",
   "nbconvert_exporter": "python",
   "pygments_lexer": "ipython3",
   "version": "3.6.0"
  }
 },
 "nbformat": 4,
 "nbformat_minor": 2
}
