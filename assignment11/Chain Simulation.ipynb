{
 "cells": [
  {
   "cell_type": "markdown",
   "metadata": {},
   "source": [
    "# Base Code for Calculating Atom Movement"
   ]
  },
  {
   "cell_type": "code",
   "execution_count": 1,
   "metadata": {},
   "outputs": [],
   "source": [
    "import matplotlib.pyplot as plt\n",
    "import numpy as np\n",
    "from numpy.linalg import norm\n",
    "from scipy.integrate import odeint\n",
    "import pprint\n",
    "from ipywidgets import interact, interactive, fixed, interact_manual, jslink\n",
    "import ipywidgets as widgets\n",
    "import ipyvolume as ipv\n",
    "import ipyvolume.pylab as p3\n",
    "import traitlets\n",
    "import time, sys\n",
    "from IPython.core.display import clear_output"
   ]
  },
  {
   "cell_type": "code",
   "execution_count": 2,
   "metadata": {},
   "outputs": [],
   "source": [
    "# define the number of floating atoms\n",
    "floaters = np.zeros(100*3)\n",
    "n = len(floaters)\n",
    "m = n/3\n",
    "\n",
    "# set the positions of the floating atoms\n",
    "count = 0\n",
    "k = 1.7\n",
    "for i in range(0,n,3):\n",
    "    floaters[i] = count\n",
    "    floaters[i+1] = k*count\n",
    "    floaters[i+2] = 1\n",
    "    count += 1"
   ]
  },
  {
   "cell_type": "code",
   "execution_count": 3,
   "metadata": {},
   "outputs": [],
   "source": [
    "# set number of substrate atoms (substrate will be 2*ns + 1 side lengths)\n",
    "ns = 5"
   ]
  },
  {
   "cell_type": "code",
   "execution_count": 4,
   "metadata": {},
   "outputs": [],
   "source": [
    "# set the substrate parameters\n",
    "h_x = 1\n",
    "h_y = 1"
   ]
  },
  {
   "cell_type": "code",
   "execution_count": 5,
   "metadata": {},
   "outputs": [],
   "source": [
    "# set the VDW parameters\n",
    "w = 1\n",
    "sigma = 1"
   ]
  },
  {
   "cell_type": "code",
   "execution_count": 6,
   "metadata": {},
   "outputs": [],
   "source": [
    "# set the spring parameters\n",
    "k_s = 5\n",
    "l = 1"
   ]
  },
  {
   "cell_type": "code",
   "execution_count": 7,
   "metadata": {},
   "outputs": [],
   "source": [
    "# define the time interval for the gradient flow\n",
    "t = np.linspace(0,6,20)"
   ]
  },
  {
   "cell_type": "code",
   "execution_count": 8,
   "metadata": {},
   "outputs": [],
   "source": [
    "# this is the RHS of the system of ODEs solved by odeint. It returns the forces\n",
    "# acting on each floater in the x, y and z directions\n",
    "def spring_and_VDWForce(floaters, t):\n",
    "\n",
    "    # compute number of atoms\n",
    "    m = int(len(floaters)/3)\n",
    "    n = int(len(floaters))\n",
    "\n",
    "    # split the atoms into 1x3 arrays\n",
    "    r = [[0 for i in range(3)] for j in range(m)]\n",
    "    for i in range(m):\n",
    "        r[i] = floaters[i*3:i*3+3]\n",
    "\n",
    "    # initialize arrays for the spring forces and VDW forces\n",
    "    combined_spring_forces = np.zeros(n)\n",
    "    combined_VDW_forces = np.zeros(n)\n",
    "    VDW_force = np.zeros((m, 3))\n",
    "    spring_force = np.zeros((m, 3))\n",
    "\n",
    "    # define the size of the substrate surrounding the floaters\n",
    "    a = np.arange(-ns,ns+1,1)\n",
    "\n",
    "    # compute the distances of the floating atom from the substrate atoms\n",
    "    # and the VDW forces acting on them as a result\n",
    "    for j in range(len(a)):\n",
    "        for i in range(len(a)):\n",
    "            for k in range(m):\n",
    "\n",
    "                # compute the offsets\n",
    "                k_x = (r[k][0] + .5)%h_x\n",
    "                k_y = (r[k][1] + .5)%h_y\n",
    "\n",
    "                # compute dx, dy, dz and rhat\n",
    "                dx = k_x - .5 + a[i]*h_x\n",
    "                dy = k_y - .5 + a[j]*h_y\n",
    "                dz = r[k][2]\n",
    "                rhat = np.sqrt(dx**2 + dy**2 + dz**2)\n",
    "\n",
    "                # this is the gradient of V (computed by hand), it is used to compute the\n",
    "                # VDW forces acting on the floating atoms\n",
    "                gradV_common = (12*w*((sigma**6)/(rhat**8)-(sigma**12)/(rhat**14)))\n",
    "                VDW_force[k] = -gradV_common*np.array([dx, dy, dz])\n",
    "\n",
    "            # combine the VDW forces for all floating atoms\n",
    "            combined_VDW_forces += np.hstack(VDW_force)\n",
    "\n",
    "    # this is the gradient of E_s (computed by hand), it is used to compute the\n",
    "    # spring forces acting on the atoms\n",
    "    for i in range(m-1):\n",
    "        gradE_common = k_s*(norm(r[i]-r[i+1]) - l)/norm(r[i] - r[i+1])\n",
    "        current_sf = -gradE_common*np.array([(r[i][0]-r[i+1][0]),(r[i][1]-r[i+1][1]),(r[i][2]-r[i+1][2])])\n",
    "        spring_force[i] += current_sf\n",
    "        spring_force[i+1] = -current_sf\n",
    "\n",
    "\n",
    "    combined_spring_forces = np.hstack(spring_force)\n",
    "    total_spring_and_VDW_force = np.add(combined_spring_forces, combined_VDW_forces)\n",
    "\n",
    "    return total_spring_and_VDW_force\n"
   ]
  },
  {
   "cell_type": "code",
   "execution_count": 9,
   "metadata": {},
   "outputs": [],
   "source": [
    "def VDW_energy(r):\n",
    "    \n",
    "    # separate r into its indices\n",
    "    x = r[0]\n",
    "    y = r[1]\n",
    "    z = r[2]\n",
    "\n",
    "    # Offset k (x mod h for the x-coordinate of the floating atom)\n",
    "    k_x = x%h_x\n",
    "    k_y = y%h_y\n",
    "\n",
    "    E_v = 0\n",
    "    a = np.arange(-ns,ns+1,1) # set the values of r_j which we need\n",
    "\n",
    "    # compute the total VDW energy, E_v\n",
    "    for i in range(len(a)):\n",
    "        for j in range(len(a)):\n",
    "            r = np.sqrt((k_x + a[i]*h_x)**2 + (k_y + a[j]*h_y)**2 + z**2)\n",
    "            E_v += w*((sigma**12/r**12) - 2*(sigma**6/r**6))\n",
    "    \n",
    "    return E_v"
   ]
  },
  {
   "cell_type": "code",
   "execution_count": null,
   "metadata": {},
   "outputs": [],
   "source": [
    "def spring_energy(atom, row):\n",
    "    \n",
    "    # so I need the atom before the one being analyzed and the atom after it, this if-else statement determines if the\n",
    "    # atom in question is one of the atoms at the end of the chain or not, and handles the computations accordingly\n",
    "    if (atom == 0):\n",
    "        r1 = gFlow[row, :3]\n",
    "        r2 = gFlow[row, 3:6]\n",
    "        E_s = .5*k_s*(norm(r1 - r2) - l)**2\n",
    "    elif (atom == int(m)-1):\n",
    "        r1 = gFlow[row, -6:-3]\n",
    "        r2 = gFlow[row, -3:]\n",
    "        E_s = -.5*k_s*(norm(r1 - r2) - l)**2\n",
    "    else:\n",
    "        r1 = gFlow[row, atom*3-3:atom*3]\n",
    "        r2 = gFlow[row, atom*3:atom*3+3]\n",
    "        r3 = gFlow[row, atom*3+3:atom*3+6]\n",
    "        E_s = -.5*k_s*(norm(r1 - r2) - l)**2\n",
    "        E_s += .5*k_s*(norm(r2 - r3) - l)**2\n",
    "    \n",
    "    return E_s"
   ]
  },
  {
   "cell_type": "code",
   "execution_count": null,
   "metadata": {},
   "outputs": [],
   "source": [
    "%%time\n",
    "# compute the changing positions of the atoms as a result of the spring\n",
    "# and VDW forces acting on them\n",
    "gFlow = odeint(spring_and_VDWForce, floaters, t, atol=1.4e-10)"
   ]
  },
  {
   "cell_type": "code",
   "execution_count": null,
   "metadata": {},
   "outputs": [],
   "source": [
    "# define the arrays to hold the system energy values\n",
    "total_energies = np.zeros((len(gFlow), int(m)))\n",
    "total_system_energy = np.zeros(len(gFlow))\n",
    "\n",
    "# compute the total energy at each time step for each individual floater\n",
    "for i in range(int(m)):\n",
    "    for j in range(len(gFlow)):\n",
    "        total_energies[j][i] += VDW_energy(gFlow[j][i*3:i*3+3]) + spring_energy(i, j)\n",
    "\n",
    "# combine the individual energies into the total system energy at each time step\n",
    "for i in range(int(m)):\n",
    "    for j in range(len(gFlow)):\n",
    "        total_system_energy[j] += total_energies[j][i]\n",
    "\n",
    "\n",
    "pprint.pprint(total_system_energy)"
   ]
  },
  {
   "cell_type": "markdown",
   "metadata": {},
   "source": [
    "# Simulation Code"
   ]
  },
  {
   "cell_type": "code",
   "execution_count": null,
   "metadata": {},
   "outputs": [],
   "source": [
    "# define arrays of x, y and z coordinates to create an animated scatter plot\n",
    "x = np.zeros((len(t),int(m)))\n",
    "y = np.zeros((len(t),int(m)))\n",
    "z = np.zeros((len(t),int(m)))\n",
    "for i in range(len(t)):\n",
    "    for j in range(int(m)):\n",
    "        x[i][j] = gFlow[i,j*3]\n",
    "        y[i][j] = gFlow[i,j*3+1]\n",
    "        z[i][j] = gFlow[i,j*3+2]"
   ]
  },
  {
   "cell_type": "markdown",
   "metadata": {},
   "source": [
    "### Assignment 11: Add a plot of total energy with an animated dot moving as the simulation moves"
   ]
  },
  {
   "cell_type": "code",
   "execution_count": null,
   "metadata": {
    "scrolled": false
   },
   "outputs": [],
   "source": [
    "%matplotlib inline\n",
    "\n",
    "# create an ipyvolume.pylab figure for the simulation\n",
    "p3.figure()\n",
    "\n",
    "# plot a scatterplot of the arrays defined above in the figure\n",
    "s1 = p3.scatter(x, y, z, marker='sphere', connected=True)\n",
    "s2 = p3.plot(x, y, z)\n",
    "\n",
    "# set the x, y and z limits of the figure\n",
    "p3.xlim(-50,120)\n",
    "p3.ylim(-50,120)\n",
    "p3.zlim(0,1)\n",
    "\n",
    "# add animation controls to the figure\n",
    "p3.animation_control([s1, s2], interval=400)\n",
    "\n",
    "# add sliders for parameters\n",
    "ns_slider = widgets.IntSlider(min=0, max=15, step=1, value=ns, description='ns', continuous_update=False)\n",
    "w_slider = widgets.IntSlider(min=0, max=10, step=1, value=w, description='w', continuous_update=False)\n",
    "sigma_slider = widgets.IntSlider(min=0, max=10, step=1, value=sigma, description='sigma', continuous_update=False)\n",
    "k_s_text = widgets.FloatText(min=0., max=500., step=.1, value=k_s, description='k_s', continuous_update=False)\n",
    "l_slider = widgets.IntSlider(min=0, max=10, step=1, value=l, description='l', continuous_update=False)\n",
    "\n",
    "# create handler functions to change the values of the parameters globally when the sliders change\n",
    "def on_ns_slider_change(change):\n",
    "    global ns\n",
    "    ns = change.new\n",
    "\n",
    "def on_w_slider_change(change):\n",
    "    global w\n",
    "    w = change.new\n",
    "\n",
    "def on_sigma_slider_change(change):\n",
    "    global sigma\n",
    "    sigma = sigma.new\n",
    "    \n",
    "def on_k_s_text_change(change):\n",
    "    global k_s\n",
    "    k_s = change.new\n",
    "    \n",
    "def on_l_slider_change(change):\n",
    "    global l\n",
    "    l = change.new\n",
    "\n",
    "# set the sliders to call their handler functions any time the sliders are moved\n",
    "ns_slider.observe(on_ns_slider_change, names='value')\n",
    "w_slider.observe(on_w_slider_change, names='value')\n",
    "sigma_slider.observe(on_sigma_slider_change, names='value')\n",
    "k_s_text.observe(on_k_s_text_change, names='value')\n",
    "l_slider.observe(on_l_slider_change, names='value')\n",
    "\n",
    "# create a plot of the total system energy over time\n",
    "f, ax = plt.subplots()\n",
    "\n",
    "for i in range(len(t)):\n",
    "    \n",
    "    # set axes labels for the plot\n",
    "    plt.xlabel('Time')\n",
    "    plt.ylabel('Total System Energy')\n",
    "    \n",
    "    # plot the line and the current point on the line\n",
    "    ax.plot(t, total_system_energy, 'k')\n",
    "    ax.plot(t[i], total_system_energy[i], 'ro')\n",
    "    \n",
    "    # pause\n",
    "    #time.sleep(0.1)\n",
    "    \n",
    "    # clear output, otherwise, we end up with len(t) graphs\n",
    "    #clear_output()\n",
    "    \n",
    "    display(f)\n",
    "    ax.cla()\n",
    "\n",
    "# display the VBox beneath the total system energy plot\n",
    "label = widgets.Label('Parameter sliders:')\n",
    "parameters = widgets.VBox([ipv.gcc(), label, ns_slider, w_slider, sigma_slider, l_slider, k_s_text])\n",
    "display(parameters)"
   ]
  },
  {
   "cell_type": "code",
   "execution_count": null,
   "metadata": {
    "scrolled": false
   },
   "outputs": [],
   "source": [
    "# print the output of odeint\n",
    "pprint.pprint(gFlow)"
   ]
  },
  {
   "cell_type": "code",
   "execution_count": null,
   "metadata": {},
   "outputs": [],
   "source": [
    "## Compute and print the distance between each pair of bonded atoms for debugging purposes\n",
    "for i in range(int(m)-1):\n",
    "    dist = norm(gFlow[-1,i*3:i*3+3] - gFlow[-1,i*3+3:i*3+6])\n",
    "    print(str(dist)+', ')"
   ]
  }
 ],
 "metadata": {
  "kernelspec": {
   "display_name": "Python 3",
   "language": "python",
   "name": "python3"
  },
  "language_info": {
   "codemirror_mode": {
    "name": "ipython",
    "version": 3
   },
   "file_extension": ".py",
   "mimetype": "text/x-python",
   "name": "python",
   "nbconvert_exporter": "python",
   "pygments_lexer": "ipython3",
   "version": "3.6.0"
  }
 },
 "nbformat": 4,
 "nbformat_minor": 2
}
