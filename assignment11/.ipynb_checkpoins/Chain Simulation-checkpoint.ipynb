{
 "cells": [
  {
   "cell_type": "markdown",
   "metadata": {},
   "source": [
    "# Base Code for Calculating Atom Movement"
   ]
  },
  {
   "cell_type": "code",
   "execution_count": 1,
   "metadata": {},
   "outputs": [],
   "source": [
    "import matplotlib.pyplot as plt\n",
    "import numpy as np\n",
    "from numpy.linalg import norm\n",
    "from scipy.integrate import odeint\n",
    "import pprint\n",
    "from ipywidgets import interact, interactive, fixed, interact_manual, jslink\n",
    "import ipywidgets as widgets\n",
    "import ipyvolume as ipv\n",
    "import ipyvolume.pylab as p3\n",
    "import traitlets"
   ]
  },
  {
   "cell_type": "code",
   "execution_count": 22,
   "metadata": {},
   "outputs": [],
   "source": [
    "# define the number of floating atoms\n",
    "floaters = np.zeros(10*3)\n",
    "n = len(floaters)\n",
    "m = n/3\n",
    "\n",
    "# set the positions of the floating atoms\n",
    "count = 0\n",
    "for i in range(0,n,3):\n",
    "    floaters[i] = count\n",
    "    floaters[i+1] = count\n",
    "    floaters[i+2] = 1\n",
    "    count += 1"
   ]
  },
  {
   "cell_type": "code",
   "execution_count": 3,
   "metadata": {},
   "outputs": [],
   "source": [
    "# set number of substrate atoms (substrate will be 2*ns + 1 side lengths)\n",
    "ns = 10"
   ]
  },
  {
   "cell_type": "code",
   "execution_count": 4,
   "metadata": {},
   "outputs": [],
   "source": [
    "# set the substrate parameters\n",
    "h_x = 1\n",
    "h_y = 1"
   ]
  },
  {
   "cell_type": "code",
   "execution_count": 5,
   "metadata": {},
   "outputs": [],
   "source": [
    "# set the VDW parameters\n",
    "w = 1\n",
    "sigma = 1"
   ]
  },
  {
   "cell_type": "code",
   "execution_count": 6,
   "metadata": {},
   "outputs": [],
   "source": [
    "# set the spring parameters\n",
    "k_s = 5\n",
    "l = 1"
   ]
  },
  {
   "cell_type": "code",
   "execution_count": 66,
   "metadata": {},
   "outputs": [],
   "source": [
    "# define the time interval for the gradient flow\n",
    "t = np.linspace(0,4,15)"
   ]
  },
  {
   "cell_type": "code",
   "execution_count": 67,
   "metadata": {},
   "outputs": [],
   "source": [
    "# this is the RHS of the system of ODEs solved by odeint. It returns the forces\n",
    "# acting on each floater in the x, y and z directions\n",
    "def spring_and_VDWForce(floaters, t):\n",
    "\n",
    "    # compute number of atoms\n",
    "    m = int(len(floaters)/3)\n",
    "    n = int(len(floaters))\n",
    "\n",
    "    # split the atoms into 1x3 arrays\n",
    "    r = [[0 for i in range(3)] for j in range(m)]\n",
    "    for i in range(m):\n",
    "        r[i] = floaters[i*3:i*3+3]\n",
    "\n",
    "    # initialize arrays for the spring forces and VDW forces\n",
    "    combined_spring_forces = np.zeros(n)\n",
    "    combined_VDW_forces = np.zeros(n)\n",
    "    VDW_force = np.zeros((m, 3))\n",
    "    spring_force = np.zeros((m, 3))\n",
    "\n",
    "    # define the size of the substrate surrounding the floaters\n",
    "    a = np.arange(-ns,ns+1,1)\n",
    "\n",
    "    # compute the distances of the floating atom from the substrate atoms\n",
    "    # and the VDW forces acting on them as a result\n",
    "    for j in range(len(a)):\n",
    "        for i in range(len(a)):\n",
    "            for k in range(m):\n",
    "\n",
    "                # compute the offsets\n",
    "                k_x = (r[k][0] + .5)%h_x\n",
    "                k_y = (r[k][1] + .5)%h_y\n",
    "\n",
    "                # compute dx, dy, dz and rhat\n",
    "                dx = k_x - .5 + a[i]*h_x\n",
    "                dy = k_y - .5 + a[j]*h_y\n",
    "                dz = r[k][2]\n",
    "                rhat = np.sqrt(dx**2 + dy**2 + dz**2)\n",
    "\n",
    "                # this is the gradient of V (computed by hand), it is used to compute the\n",
    "                # VDW forces acting on the floating atoms\n",
    "                gradV_common = (12*w*((sigma**6)/(rhat**8)-(sigma**12)/(rhat**14)))\n",
    "                VDW_force[k] = -gradV_common*np.array([dx, dy, dz])\n",
    "\n",
    "            # combine the VDW forces for all floating atoms\n",
    "            combined_VDW_forces += np.hstack(VDW_force)\n",
    "\n",
    "    # this is the gradient of E_s (computed by hand), it is used to compute the\n",
    "    # spring forces acting on the atoms\n",
    "    for i in range(m-1):\n",
    "        gradE_common = k_s*(norm(r[i]-r[i+1]) - l)/norm(r[i] - r[i+1])\n",
    "        current_sf = -gradE_common*np.array([(r[i][0]-r[i+1][0]),(r[i][1]-r[i+1][1]),(r[i][2]-r[i+1][2])])\n",
    "        spring_force[i] += current_sf\n",
    "        spring_force[i+1] = -current_sf\n",
    "\n",
    "\n",
    "    combined_spring_forces = np.hstack(spring_force)\n",
    "    total_spring_and_VDW_force = np.add(combined_spring_forces, combined_VDW_forces)\n",
    "\n",
    "    return total_spring_and_VDW_force\n"
   ]
  },
  {
   "cell_type": "code",
   "execution_count": null,
   "metadata": {},
   "outputs": [],
   "source": [
    "%%time\n",
    "# compute the changing positions of the atoms as a result of the spring\n",
    "# and VDW forces acting on them\n",
    "gFlow = odeint(spring_and_VDWForce, floaters, t, atol=1.4e-10)"
   ]
  },
  {
   "cell_type": "markdown",
   "metadata": {},
   "source": [
    "# Simulation Code"
   ]
  },
  {
   "cell_type": "code",
   "execution_count": null,
   "metadata": {},
   "outputs": [],
   "source": [
    "# define arrays of x, y and z coordinates to create an animated scatter plot\n",
    "x = np.zeros((len(t),int(m)))\n",
    "y = np.zeros((len(t),int(m)))\n",
    "z = np.zeros((len(t),int(m)))\n",
    "for i in range(len(t)):\n",
    "    for j in range(int(m)):\n",
    "        x[i][j] = gFlow[i,j*3]\n",
    "        y[i][j] = gFlow[i,j*3+1]\n",
    "        z[i][j] = gFlow[i,j*3+2]"
   ]
  },
  {
   "cell_type": "code",
   "execution_count": null,
   "metadata": {
    "scrolled": false
   },
   "outputs": [],
   "source": [
    "# create an ipyvolume.pylab figure\n",
    "p3.figure()\n",
    "\n",
    "# plot a scatterplot of the arrays defined above in the figure\n",
    "s1 = p3.scatter(x, y, z, marker='sphere')\n",
    "s2 = p3.plot(x, y, z)\n",
    "\n",
    "# set the x, y and z limits of the figure\n",
    "p3.xlim(-4,12)\n",
    "p3.ylim(-4,12)\n",
    "p3.zlim(0,1)\n",
    "\n",
    "# add animation controls to the figure\n",
    "p3.animation_control(s1)\n",
    "p3.animation_control(s2)\n",
    "\n",
    "# add sliders for parameters\n",
    "ns_slider = widgets.IntSlider(min=0, max=15, step=1, value=ns, description='ns', continuous_update=False)\n",
    "w_slider = widgets.IntSlider(min=0, max=10, step=1, value=w, description='w', continuous_update=False)\n",
    "sigma_slider = widgets.IntSlider(min=0, max=10, step=1, value=sigma, description='sigma', continuous_update=False)\n",
    "k_s_text = widgets.FloatText(min=0., max=500., step=.1, value=k_s, description='k_s', continuous_update=False)\n",
    "l_slider = widgets.IntSlider(min=0, max=10, step=1, value=l, description='l', continuous_update=False)\n",
    "\n",
    "# create handler functions to change the values of the parameters globally when the sliders change\n",
    "def on_ns_slider_change(change):\n",
    "    global ns\n",
    "    ns = change.new\n",
    "\n",
    "def on_w_slider_change(change):\n",
    "    global w\n",
    "    w = change.new\n",
    "\n",
    "def on_sigma_slider_change(change):\n",
    "    global sigma\n",
    "    sigma = sigma.new\n",
    "    \n",
    "def on_k_s_text_change(change):\n",
    "    global k_s\n",
    "    k_s = change.new\n",
    "    \n",
    "def on_l_slider_change(change):\n",
    "    global l\n",
    "    l = change.new\n",
    "\n",
    "# set the sliders to call their handler functions any time the sliders are moved\n",
    "ns_slider.observe(on_ns_slider_change, names='value')\n",
    "w_slider.observe(on_w_slider_change, names='value')\n",
    "sigma_slider.observe(on_sigma_slider_change, names='value')\n",
    "k_s_text.observe(on_k_s_text_change, names='value')\n",
    "l_slider.observe(on_l_slider_change, names='value')\n",
    "\n",
    "label = widgets.Label('Parameter sliders:')\n",
    "parameters = widgets.VBox([ipv.gcc(), label, ns_slider, w_slider, sigma_slider, l_slider, k_s_text])\n",
    "display(parameters)"
   ]
  },
  {
   "cell_type": "code",
   "execution_count": 63,
   "metadata": {
    "scrolled": false
   },
   "outputs": [
    {
     "name": "stdout",
     "output_type": "stream",
     "text": [
      "array([[ 0.        ,  0.        ,  1.        ,  1.        ,  1.        ,\n",
      "         1.        ,  2.        ,  2.        ,  1.        ,  3.        ,\n",
      "         3.        ,  1.        ,  4.        ,  4.        ,  1.        ,\n",
      "         5.        ,  5.        ,  1.        ,  6.        ,  6.        ,\n",
      "         1.        ,  7.        ,  7.        ,  1.        ,  8.        ,\n",
      "         8.        ,  1.        ,  9.        ,  9.        ,  1.        ],\n",
      "       [-0.01061837, -0.01061837,  0.96505354,  0.99991143,  0.99991143,\n",
      "         0.96517295,  1.99999955,  1.99999955,  0.96517293,  3.        ,\n",
      "         3.        ,  0.96517293,  4.        ,  4.        ,  0.96517293,\n",
      "         5.        ,  5.        ,  0.96517293,  6.        ,  6.        ,\n",
      "         0.96517293,  7.00000045,  7.00000045,  0.96517293,  8.00008857,\n",
      "         8.00008857,  0.96517295,  9.01061837,  9.01061837,  0.96505354],\n",
      "       [-0.04201325, -0.04201325,  0.96322547,  0.99920926,  0.99920926,\n",
      "         0.96517273,  1.99999138,  1.99999138,  0.96517293,  2.99999993,\n",
      "         2.99999993,  0.96517293,  4.        ,  4.        ,  0.96517293,\n",
      "         5.        ,  5.        ,  0.96517293,  6.00000007,  6.00000007,\n",
      "         0.96517293,  7.00000862,  7.00000862,  0.96517293,  8.00079074,\n",
      "         8.00079074,  0.96517273,  9.04201325,  9.04201325,  0.96322547],\n",
      "       [-0.13664609, -0.13664609,  0.944221  ,  0.99584597,  0.99584597,\n",
      "         0.96515794,  1.9999291 ,  1.9999291 ,  0.96517293,  2.99999915,\n",
      "         2.99999915,  0.96517293,  3.99999999,  3.99999999,  0.96517293,\n",
      "         5.00000001,  5.00000001,  0.96517293,  6.00000085,  6.00000085,\n",
      "         0.96517293,  7.0000709 ,  7.0000709 ,  0.96517293,  8.00415403,\n",
      "         8.00415403,  0.96515794,  9.13664609,  9.13664609,  0.944221  ],\n",
      "       [-0.44772823, -0.44772823,  0.73552408,  0.98182183,  0.98182183,\n",
      "         0.96481464,  1.99957905,  1.99957905,  0.96517283,  2.99999316,\n",
      "         2.99999316,  0.96517293,  3.99999992,  3.99999992,  0.96517293,\n",
      "         5.00000008,  5.00000008,  0.96517293,  6.00000684,  6.00000684,\n",
      "         0.96517293,  7.00042095,  7.00042095,  0.96517283,  8.01817817,\n",
      "         8.01817817,  0.96481464,  9.44772823,  9.44772823,  0.73552408],\n",
      "       [-0.49994324, -0.49994324,  0.70104718,  0.93412076,  0.93412076,\n",
      "         0.96035419,  1.9979142 ,  1.9979142 ,  0.96516931,  2.9999567 ,\n",
      "         2.9999567 ,  0.96517293,  3.99999932,  3.99999932,  0.96517293,\n",
      "         5.00000068,  5.00000068,  0.96517293,  6.0000433 ,  6.0000433 ,\n",
      "         0.96517293,  7.0020858 ,  7.0020858 ,  0.96516931,  8.06587924,\n",
      "         8.06587924,  0.96035419,  9.49994324,  9.49994324,  0.70104718],\n",
      "       [-0.50013143, -0.50013143,  0.7010318 ,  0.78764268,  0.78764268,\n",
      "         0.9139165 ,  1.99105415,  1.99105415,  0.96509229,  2.99976731,\n",
      "         2.99976731,  0.96517289,  3.99999557,  3.99999557,  0.96517293,\n",
      "         5.00000443,  5.00000443,  0.96517293,  6.00023269,  6.00023269,\n",
      "         0.96517289,  7.00894585,  7.00894585,  0.96509229,  8.21235732,\n",
      "         8.21235732,  0.9139165 ,  9.50013143,  9.50013143,  0.7010318 ],\n",
      "       [-0.50054352, -0.50054352,  0.70104505,  0.50198132,  0.50198132,\n",
      "         0.70117249,  1.96489132,  1.96489132,  0.96381227,  2.99888614,\n",
      "         2.99888614,  0.96517192,  3.99997476,  3.99997476,  0.96517293,\n",
      "         5.00002524,  5.00002524,  0.96517293,  6.00111386,  6.00111386,\n",
      "         0.96517192,  7.03510868,  7.03510868,  0.96381227,  8.49801868,\n",
      "         8.49801868,  0.70117249,  9.50054352,  9.50054352,  0.70104505],\n",
      "       [-0.50055257, -0.50055257,  0.70104528,  0.50054139,  0.50054139,\n",
      "         0.70104362,  1.8836144 ,  1.8836144 ,  0.95001787,  2.99518906,\n",
      "         2.99518906,  0.9651506 ,  3.99987082,  3.99987082,  0.96517292,\n",
      "         5.00012918,  5.00012918,  0.96517292,  6.00481094,  6.00481094,\n",
      "         0.9651506 ,  7.1163856 ,  7.1163856 ,  0.95001787,  8.49945861,\n",
      "         8.49945861,  0.70104362,  9.50055257,  9.50055257,  0.70104528],\n",
      "       [-0.50055296, -0.50055296,  0.70104529,  0.50021269,  0.50021269,\n",
      "         0.70102673,  1.6144713 ,  1.6144713 ,  0.79188927,  2.98086776,\n",
      "         2.98086776,  0.96477926,  3.99939594,  3.99939594,  0.96517264,\n",
      "         5.00060406,  5.00060406,  0.96517264,  6.01913224,  6.01913224,\n",
      "         0.96477926,  7.3855287 ,  7.3855287 ,  0.79188927,  8.49978731,\n",
      "         8.49978731,  0.70102673,  9.50055296,  9.50055296,  0.70104529],\n",
      "       [-0.50055329, -0.50055329,  0.70104529,  0.50000529,  0.50000529,\n",
      "         0.70104312,  1.50060688,  1.50060688,  0.70104954,  2.93177735,\n",
      "         2.93177735,  0.96000333,  3.9973796 ,  3.9973796 ,  0.96516661,\n",
      "         5.0026204 ,  5.0026204 ,  0.96516661,  6.06822265,  6.06822265,\n",
      "         0.96000333,  7.49939312,  7.49939312,  0.70104954,  8.49999471,\n",
      "         8.49999471,  0.70104312,  9.50055329,  9.50055329,  0.70104529],\n",
      "       [-0.5005533 , -0.5005533 ,  0.70104529,  0.50000498,  0.50000498,\n",
      "         0.70104312,  1.50041707,  1.50041707,  0.70103227,  2.78000065,\n",
      "         2.78000065,  0.91008352,  3.98953047,  3.98953047,  0.96505989,\n",
      "         5.01046953,  5.01046953,  0.96505989,  6.21999935,  6.21999935,\n",
      "         0.91008352,  7.49958293,  7.49958293,  0.70103227,  8.49999502,\n",
      "         8.49999502,  0.70104312,  9.5005533 ,  9.5005533 ,  0.70104529],\n",
      "       [-0.5005533 , -0.5005533 ,  0.70104529,  0.50000443,  0.50000443,\n",
      "         0.70104312,  1.50001285,  1.50001285,  0.70104305,  2.50161103,\n",
      "         2.50161103,  0.70112397,  3.96072411,  3.96072411,  0.96346681,\n",
      "         5.03927589,  5.03927589,  0.96346681,  6.49838897,  6.49838897,\n",
      "         0.70112397,  7.49998715,  7.49998715,  0.70104305,  8.49999557,\n",
      "         8.49999557,  0.70104312,  9.5005533 ,  9.5005533 ,  0.70104529],\n",
      "       [-0.5005533 , -0.5005533 ,  0.70104529,  0.5000044 ,  0.5000044 ,\n",
      "         0.70104312,  1.50000585,  1.50000585,  0.70104312,  2.50052898,\n",
      "         2.50052898,  0.70104234,  3.87284582,  3.87284582,  0.94703338,\n",
      "         5.12715418,  5.12715418,  0.94703338,  6.49947102,  6.49947102,\n",
      "         0.70104234,  7.49999415,  7.49999415,  0.70104312,  8.4999956 ,\n",
      "         8.4999956 ,  0.70104312,  9.5005533 ,  9.5005533 ,  0.70104529],\n",
      "       [-0.5005533 , -0.5005533 ,  0.70104529,  0.5000044 ,  0.5000044 ,\n",
      "         0.70104312,  1.50000543,  1.50000543,  0.70104313,  2.50017401,\n",
      "         2.50017401,  0.70102897,  3.58490228,  3.58490228,  0.76476285,\n",
      "         5.41509772,  5.41509772,  0.76476285,  6.49982599,  6.49982599,\n",
      "         0.70102897,  7.49999457,  7.49999457,  0.70104313,  8.4999956 ,\n",
      "         8.4999956 ,  0.70104312,  9.5005533 ,  9.5005533 ,  0.70104529]])\n"
     ]
    }
   ],
   "source": [
    "# print the output of odeint\n",
    "pprint.pprint(gFlow)"
   ]
  },
  {
   "cell_type": "code",
   "execution_count": 64,
   "metadata": {},
   "outputs": [
    {
     "name": "stdout",
     "output_type": "stream",
     "text": [
      "1.41500226861, \n",
      "1.41421501623, \n",
      "1.4144519632, \n",
      "1.53536082776, \n",
      "2.58828721263, \n",
      "1.53536082392, \n",
      "1.41445196319, \n",
      "1.41421501623, \n",
      "1.41500226861, \n"
     ]
    }
   ],
   "source": [
    "# compute and print the distance between each pair of bonded atoms\n",
    "# for debugging purposes\n",
    "for i in range(int(m)-1):\n",
    "    dist = norm(gFlow[-1,i*3:i*3+3] - gFlow[-1,i*3+3:i*3+6])\n",
    "    print(str(dist)+', ')"
   ]
  },
  {
   "cell_type": "code",
   "execution_count": null,
   "metadata": {},
   "outputs": [],
   "source": []
  }
 ],
 "metadata": {
  "kernelspec": {
   "display_name": "Python 3",
   "language": "python",
   "name": "python3"
  },
  "language_info": {
   "codemirror_mode": {
    "name": "ipython",
    "version": 3
   },
   "file_extension": ".py",
   "mimetype": "text/x-python",
   "name": "python",
   "nbconvert_exporter": "python",
   "pygments_lexer": "ipython3",
   "version": "3.6.0"
  }
 },
 "nbformat": 4,
 "nbformat_minor": 2
}
