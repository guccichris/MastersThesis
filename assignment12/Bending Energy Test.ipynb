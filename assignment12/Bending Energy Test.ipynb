{
 "cells": [
  {
   "cell_type": "code",
   "execution_count": 106,
   "metadata": {},
   "outputs": [],
   "source": [
    "import matplotlib.pyplot as plt\n",
    "import numpy as np\n",
    "from numpy.linalg import norm\n",
    "from scipy.integrate import odeint\n",
    "import pprint\n",
    "from ipywidgets import interact, interactive, fixed, interact_manual, jslink\n",
    "import ipywidgets as widgets\n",
    "import ipyvolume as ipv\n",
    "import ipyvolume.pylab as p3\n",
    "import traitlets\n",
    "import time, sys\n",
    "from IPython.core.display import clear_output\n",
    "from random import random"
   ]
  },
  {
   "cell_type": "code",
   "execution_count": 201,
   "metadata": {},
   "outputs": [],
   "source": [
    "# define the atoms in the chain (this test will only use a 3 atom chain)\n",
    "r1 = (-1, 2, 0)\n",
    "r2 = (-.2, 0, 0)\n",
    "r3 = (.2, 0, 0)\n",
    "r4 = (1, 2, 0)\n",
    "\n",
    "floaters = np.hstack((r1, r2, r3, r4))\n",
    "\n",
    "m = 4             # total atoms in the chain"
   ]
  },
  {
   "cell_type": "code",
   "execution_count": 202,
   "metadata": {},
   "outputs": [],
   "source": [
    "# define the number of floating atoms\n",
    "#floaters = np.zeros(4*3) # set number of floaters and multiply by 3 to have 3 coords for each\n",
    "#n = len(floaters)\n",
    "#m = n/3                    # total atoms in the chain\n",
    "\n",
    "# set the positions of the floating atoms\n",
    "#count = 0\n",
    "#k = 1.7\n",
    "#for i in range(0,n,3):\n",
    "#    floaters[i] = random()\n",
    "#    floaters[i+1] = random()\n",
    "#    floaters[i+2] = random()\n",
    "#    count += 1"
   ]
  },
  {
   "cell_type": "code",
   "execution_count": 203,
   "metadata": {},
   "outputs": [],
   "source": [
    "# define parameters\n",
    "beta = 20"
   ]
  },
  {
   "cell_type": "code",
   "execution_count": 229,
   "metadata": {},
   "outputs": [],
   "source": [
    "# define time interval\n",
    "t = np.linspace(0,.03,500)"
   ]
  },
  {
   "cell_type": "code",
   "execution_count": 230,
   "metadata": {},
   "outputs": [],
   "source": [
    "# bending force DE system\n",
    "def bending_force(floaters, t):\n",
    "    \n",
    "    current_bending_force = np.zeros((int(m),3))\n",
    "    total_bending_force = np.zeros(int(m))\n",
    "    \n",
    "    # loop for computing bending force\n",
    "    for i in range(1,int(m-1)):          # loop through each atom not on the end of the chain and compute the bending force on it and its neighbors\n",
    "        \n",
    "        # define the pieces of the bending energy equation\n",
    "        sx_n = floaters[i*3] - floaters[(i-1)*3]\n",
    "        sx_n1 = floaters[(i+1)*3] - floaters[i*3]\n",
    "\n",
    "        sy_n = floaters[i*3 + 1] - floaters[(i-1)*3 + 1]\n",
    "        sy_n1 = floaters[(i+1)*3 + 1] - floaters[i*3 + 1]\n",
    "\n",
    "        sz_n = floaters[i*3 + 2] - floaters[(i-1)*3 + 2]\n",
    "        sz_n1 = floaters[(i+1)*3 + 2] - floaters[i*3 + 2]\n",
    "\n",
    "        A = norm((sx_n, sy_n, sz_n))*norm((sx_n1, sy_n1, sz_n1))\n",
    "\n",
    "        B = np.dot((sx_n, sy_n, sz_n),(sx_n1, sy_n1, sz_n1))\n",
    "\n",
    "        partial_common = .5/A\n",
    "        \n",
    "        # partials of A wrt x for atom n, n-1 and n+1, respectively\n",
    "        Axn = partial_common*(2*(sx_n)*(sx_n1**2) - 2*(sx_n1)*(sx_n**2) + 2*(sx_n)*(sy_n1**2) + 2*(sx_n)*(sz_n1**2) - 2*(sx_n1)*(sy_n**2) - 2*(sx_n1)*(sz_n**2))\n",
    "        Axn0 = partial_common*(-2*(sx_n)*(sx_n1**2) - 2*(sx_n)*(sy_n1**2) - 2*(sx_n)*(sz_n1**2))\n",
    "        Axn1 = partial_common*(2*(sx_n**2)*(sx_n1) + 2*(sy_n**2)*(sx_n1) + 2*(sz_n**2)*(sx_n1))\n",
    "        \n",
    "        # partials of A wrt y for atom n, n-1 and n+1, respectively\n",
    "        Ayn = partial_common*(-2*(sx_n**2)*(sy_n1) + 2*(sy_n)*(sx_n1**2) + 2*(sy_n)*(sy_n1**2) - 2*(sy_n**2)*(sy_n1) + 2*(sy_n)*(sz_n1**2) - 2*(sz_n**2)*(sy_n1))\n",
    "        Ayn0 = partial_common*(-2*(sy_n)*(sx_n1**2) - 2*(sy_n)*(sy_n1**2) - 2*(sy_n)*(sz_n1**2))\n",
    "        Ayn1 = partial_common*(2*(sy_n**2)*(sy_n1) + 2*(sz_n**2)*(sy_n1) + 2*(sx_n**2)*(sy_n1))\n",
    "        \n",
    "        # partials of A wrt z for atom n, n-1 and n+1, respectively\n",
    "        Azn = partial_common*(-2*(sx_n**2)*(sz_n1) - 2*(sy_n**2)*(sz_n1) - 2*(sz_n**2)*(sz_n1) + 2*(sz_n)*(sz_n1**2) + 2*(sz_n)*(sx_n1**2) + 2*(sz_n)*(sy_n1**2))\n",
    "        Azn0 = partial_common*(-2*(sz_n)*(sx_n1**2) -2*(sz_n)*(sy_n1**2) - 2*(sz_n)*(sz_n1**2))\n",
    "        Azn1 = partial_common*(2*(sz_n1)*(sx_n**2) + 2*(sz_n1)*(sy_n**2) + 2*(sz_n1)*(sz_n**2))\n",
    "        \n",
    "        # partials of B wrt x for atom n, n-1 and n+1, respectively\n",
    "        Bxn = floaters[(i+1)*3] - 2*floaters[i*3] + floaters[(i-1)*3]\n",
    "        Bxn0 = -floaters[(i+1)*3] + floaters[i*3]\n",
    "        Bxn1 = floaters[i*3] - floaters[(i-1)*3]\n",
    "\n",
    "        # partials of B wrt y for atom n, n-1 and n+1, respectively\n",
    "        Byn = floaters[(i+1)*3 + 1] - 2*floaters[i*3 + 1] + floaters[(i-1)*3 + 1]\n",
    "        Byn0 = -floaters[(i+1)*3 + 1] + floaters[i*3 + 1]\n",
    "        Byn1 = floaters[i*3 + 1] - floaters[(i-1)*3 + 1]\n",
    "        \n",
    "        # partials of B wrt z for atom n, n-1 and n+1, respectively\n",
    "        Bzn = floaters[(i+1)*3 + 2] - 2*floaters[i*3 + 2] + floaters[(i-1)*3 + 2]\n",
    "        Bzn0 = -floaters[(i+1)*3 + 2] + floaters[i*3 + 2]\n",
    "        Bzn1 = floaters[i*3 + 2] - floaters[(i-1)*3 + 2]\n",
    "        \n",
    "        try:\n",
    "            Eb_common = 4*beta/((A+B)**2)                   # compute common part of bending energy gradient\n",
    "            if (np.isnan(Eb_common)  or np.isinf(Eb_common) or np.isnan(A)):\n",
    "                raise ValueError('Divide by zero')\n",
    "                raise Exception\n",
    "            \n",
    "        except Exception as error:\n",
    "            print(\"Caught exception: \", error)\n",
    "            continue\n",
    "            \n",
    "        current_bending_force[i,0] += Eb_common*(A*Bxn - B*Axn)\n",
    "        current_bending_force[i,1] += Eb_common*(A*Byn - B*Ayn)\n",
    "        current_bending_force[i,2] += Eb_common*(A*Bzn - B*Azn)\n",
    "            \n",
    "        current_bending_force[i-1,0] += Eb_common*(A*Bxn0 - B*Axn0)\n",
    "        current_bending_force[i-1,1] += Eb_common*(A*Byn0 - B*Ayn0)\n",
    "        current_bending_force[i-1,2] += Eb_common*(A*Bzn0 - B*Azn0)\n",
    "            \n",
    "        current_bending_force[i+1,0] = Eb_common*(A*Bxn1 - B*Axn1)\n",
    "        current_bending_force[i+1,1] = Eb_common*(A*Byn1 - B*Ayn1)\n",
    "        current_bending_force[i+1,2] = Eb_common*(A*Bzn1 - B*Azn1)\n",
    "\n",
    "    total_bending_force = np.hstack(current_bending_force)\n",
    "    return total_bending_force"
   ]
  },
  {
   "cell_type": "code",
   "execution_count": 231,
   "metadata": {
    "scrolled": true
   },
   "outputs": [
    {
     "name": "stdout",
     "output_type": "stream",
     "text": [
      "CPU times: user 124 ms, sys: 2.75 ms, total: 127 ms\n",
      "Wall time: 126 ms\n"
     ]
    },
    {
     "name": "stderr",
     "output_type": "stream",
     "text": [
      "/anaconda/lib/python3.6/site-packages/scipy/integrate/odepack.py:218: ODEintWarning: Repeated convergence failures (perhaps bad Jacobian or tolerances). Run with full_output = 1 to get quantitative information.\n",
      "  warnings.warn(warning_msg, ODEintWarning)\n"
     ]
    }
   ],
   "source": [
    "%%time\n",
    "\n",
    "# solve the system of ODEs to compute changing positions as a result of the bending force acting on the chain\n",
    "gFlow = odeint(bending_force, floaters, t, atol=1.4e-10)"
   ]
  },
  {
   "cell_type": "code",
   "execution_count": 232,
   "metadata": {
    "scrolled": false
   },
   "outputs": [
    {
     "name": "stdout",
     "output_type": "stream",
     "text": [
      "[[ -1.00000000e+000   2.00000000e+000   0.00000000e+000 ...,\n",
      "    1.00000000e+000   2.00000000e+000   0.00000000e+000]\n",
      " [ -1.00102233e+000   1.99959046e+000   0.00000000e+000 ...,\n",
      "    1.00102233e+000   1.99959046e+000   0.00000000e+000]\n",
      " [ -1.00204242e+000   1.99918061e+000   0.00000000e+000 ...,\n",
      "    1.00204242e+000   1.99918061e+000   0.00000000e+000]\n",
      " ..., \n",
      " [  0.00000000e+000   0.00000000e+000   2.52961611e-320 ...,\n",
      "    0.00000000e+000   0.00000000e+000   3.60739443e-313]\n",
      " [  0.00000000e+000   0.00000000e+000   2.75859610e-313 ...,\n",
      "    0.00000000e+000   0.00000000e+000   1.48539862e-313]\n",
      " [  0.00000000e+000   0.00000000e+000   2.52961611e-320 ...,\n",
      "    0.00000000e+000   0.00000000e+000   2.40313530e-320]]\n"
     ]
    }
   ],
   "source": [
    "print(gFlow)"
   ]
  },
  {
   "cell_type": "markdown",
   "metadata": {},
   "source": [
    "## Checking Energy Behavior"
   ]
  },
  {
   "cell_type": "code",
   "execution_count": 233,
   "metadata": {},
   "outputs": [],
   "source": [
    "def bending_energy(row, atom):\n",
    "    \n",
    "    # if-else statement to check if I am looking at an atom on the end, \n",
    "    # an atom one from the end or an atom in the middle of the chain\n",
    "    \n",
    "    r1 = gFlow[row, atom*3-3:atom*3]\n",
    "    r2 = gFlow[row, atom*3:atom*3+3]\n",
    "    r3 = gFlow[row, atom*3+3:atom*3+6]\n",
    "    \n",
    "    s1 = (r2[0] - r1[0], r2[1] - r1[1], r2[2] - r1[2])\n",
    "    s2 = (r3[0] - r2[0], r3[1] - r2[1], r3[2] - r2[2])\n",
    "        \n",
    "    A = norm(s1)*norm(s2)\n",
    "    B = np.dot(s1, s2)\n",
    "        \n",
    "    E_b = (2*beta*(A - B))/(A + B)\n",
    "    \n",
    "    return E_b"
   ]
  },
  {
   "cell_type": "code",
   "execution_count": 234,
   "metadata": {
    "scrolled": false
   },
   "outputs": [
    {
     "name": "stdout",
     "output_type": "stream",
     "text": [
      "[[  0.          18.33494523  18.33494523]\n",
      " [  0.          18.29459639  18.29459639]\n",
      " [  0.          18.25439188  18.25439188]\n",
      " ..., \n",
      " [  0.                  nan          nan]\n",
      " [  0.                  nan          nan]\n",
      " [  0.                  nan          nan]]\n",
      "\n",
      "[ 36.66989047  36.58919278  36.50878375  36.42866182  36.34882534\n",
      "  36.26927275  36.19000251  36.11101307  36.0323029   35.95387046\n",
      "  35.87571425  35.79783276  35.72022452  35.64288803  35.56582183\n",
      "  35.48902446  35.41249449  35.33623048  35.26023099  35.18449462\n",
      "  35.10901997  35.03380564  34.95885026  34.88415244  34.80971083\n",
      "  34.73552407  34.66159083  34.58790976  34.51447956  34.44129889\n",
      "  34.36836647  34.295681    34.22324119  34.15104576  34.07909345\n",
      "  34.00738301  33.93591319  33.86468274  33.79369043  33.72293506\n",
      "  33.65241539  33.58213023  33.51207838  33.44225865  33.37266987\n",
      "  33.30331086  33.23418047  33.16527752  33.09660089  33.02814943\n",
      "  32.95992201  32.89191752  32.82413482  32.75657282  32.68923042\n",
      "  32.62210653  32.55520006  32.48850994  32.42203508  32.35577445\n",
      "  32.28972697  32.2238916   32.15826731  32.09285305  32.0276478\n",
      "  31.96265054  31.89786026  31.83327595  31.76889662  31.70472127\n",
      "  31.64074891  31.57697857  31.51340928  31.45004006  31.38686996\n",
      "  31.32389802  31.26112331  31.19854486  31.13616177  31.07397308\n",
      "  31.01197789  30.95017528  30.88856433  30.82714414  30.76591381\n",
      "  30.70487246  30.64401919  30.58335312  30.52287338  30.4625791\n",
      "  30.40246941  30.34254346  30.2828004   30.22323936  30.16385953\n",
      "  30.10466005  30.04564009  29.98679884  29.92813547  29.86964916\n",
      "  29.8113391   29.75320449  29.69524453  29.63745843  29.57984539\n",
      "  29.52240462  29.46513536  29.40803681  29.35110823  29.29434882\n",
      "  29.23775785  29.18133454  29.12507815  29.06898794  29.01306316\n",
      "  28.95730306  28.90170693  28.84627403  28.79100364  28.73589503\n",
      "  28.6809475   28.62616033  28.57153281  28.51706425  28.46275394\n",
      "  28.40860119  28.35460532  28.30076563  28.24708144  28.19355209\n",
      "  28.14017689  28.08695518  28.03388629  27.98096956  27.92820433\n",
      "  27.87558996  27.82312578  27.77081117  27.71864546  27.66662804\n",
      "  27.61475826  27.56303549  27.5114591   27.46002848  27.40874301\n",
      "  27.35760207  27.30660504  27.25575132  27.2050403   27.15447139\n",
      "  27.10404399  27.05375749  27.00361132  26.95360487  26.90373758\n",
      "  26.85400886  26.80441812  26.7549648   26.70564833  26.65646814\n",
      "  26.60742367  26.55851435  26.50973962  26.46109894  26.41259175\n",
      "  26.3642175   26.31597565  26.26786566  26.21988698  26.17203908\n",
      "  26.12432142  26.07673349  26.02927474  25.98194466  25.93474273\n",
      "  25.88766842  25.84072122  25.79390062  25.74720611  25.70063718\n",
      "  25.65419332  25.60787405  25.56167885  25.51560724  25.46965872\n",
      "  25.4238328   25.37812899  25.33254682  25.28708579  25.24174542\n",
      "  25.19652525  25.1514248   25.10644358  25.06158115  25.01683702\n",
      "  24.97221074  24.92770184  24.88330986  24.83903435  24.79487485\n",
      "  24.75083092  24.7069021   24.66308794  24.619388    24.57580184\n",
      "  24.53232902  24.4889691   24.44572165  24.40258623  24.35956241\n",
      "  24.31664977  24.27384788  24.23115632  24.18857465  24.14610248\n",
      "  24.10373937  24.06148491  24.0193387   23.97730031  23.93536934\n",
      "  23.8935454   23.85182806  23.81021693  23.76871161  23.72731171\n",
      "  23.68601681  23.64482655  23.60374051  23.56275831  23.52187956\n",
      "  23.48110389  23.44043089  23.3998602   23.35939143  23.3190242\n",
      "  23.27875814  23.23859287  23.19852803  23.15856323  23.11869812\n",
      "  23.07893232  23.03926548  22.99969724  22.96022722  22.92085507\n",
      "  22.88158043  22.84240295  22.80332228  22.76433805  83.48244836\n",
      "          nan          nan          nan          nan          nan\n",
      "          nan          nan          nan          nan          nan\n",
      "          nan          nan          nan          nan          nan\n",
      "          nan          nan          nan          nan          nan\n",
      "          nan          nan          nan          nan          nan\n",
      "          nan          nan          nan          nan          nan\n",
      "          nan          nan          nan          nan          nan\n",
      "          nan          nan          nan          nan          nan\n",
      "          nan          nan          nan          nan          nan\n",
      "          nan          nan          nan          nan          nan\n",
      "          nan          nan          nan          nan          nan\n",
      "          nan          nan          nan          nan          nan\n",
      "          nan          nan          nan          nan          nan\n",
      "          nan          nan          nan          nan          nan\n",
      "          nan          nan          nan          nan          nan\n",
      "          nan          nan          nan          nan          nan\n",
      "          nan          nan          nan          nan          nan\n",
      "          nan          nan          nan          nan          nan\n",
      "          nan          nan          nan          nan          nan\n",
      "          nan          nan          nan          nan          nan\n",
      "          nan          nan          nan          nan          nan\n",
      "          nan          nan          nan          nan          nan\n",
      "          nan          nan          nan          nan          nan\n",
      "          nan          nan          nan          nan          nan\n",
      "          nan          nan          nan          nan          nan\n",
      "          nan          nan          nan          nan          nan\n",
      "          nan          nan          nan          nan          nan\n",
      "          nan          nan          nan          nan          nan\n",
      "          nan          nan          nan          nan          nan\n",
      "          nan          nan          nan          nan          nan\n",
      "          nan          nan          nan          nan          nan\n",
      "          nan          nan          nan          nan          nan\n",
      "          nan          nan          nan          nan          nan\n",
      "          nan          nan          nan          nan          nan\n",
      "          nan          nan          nan          nan          nan\n",
      "          nan          nan          nan          nan          nan\n",
      "          nan          nan          nan          nan          nan\n",
      "          nan          nan          nan          nan          nan\n",
      "          nan          nan          nan          nan          nan\n",
      "          nan          nan          nan          nan          nan\n",
      "          nan          nan          nan          nan          nan\n",
      "          nan          nan          nan          nan          nan\n",
      "          nan          nan          nan          nan          nan\n",
      "          nan          nan          nan          nan          nan\n",
      "          nan          nan          nan          nan          nan\n",
      "          nan          nan          nan          nan          nan\n",
      "          nan          nan          nan          nan          nan\n",
      "          nan          nan          nan          nan          nan\n",
      "          nan          nan          nan          nan          nan\n",
      "          nan          nan          nan          nan          nan]\n"
     ]
    },
    {
     "name": "stderr",
     "output_type": "stream",
     "text": [
      "/Users/christopher/.anaconda/ipykernel/ipykernel_launcher.py:16: RuntimeWarning: invalid value encountered in double_scalars\n",
      "  app.launch_new_instance()\n",
      "/Users/christopher/.anaconda/ipykernel/ipykernel_launcher.py:16: RuntimeWarning: divide by zero encountered in double_scalars\n",
      "  app.launch_new_instance()\n",
      "/Users/christopher/.anaconda/ipykernel/ipykernel_launcher.py:13: RuntimeWarning: invalid value encountered in double_scalars\n",
      "  del sys.path[0]\n"
     ]
    }
   ],
   "source": [
    "# bending_energies contains the individual energy of each angle at each time step, \n",
    "# total_energy is the energy of the system at each time step\n",
    "bending_energies = np.zeros((len(gFlow), int(m)-1))\n",
    "total_energy = np.zeros(len(gFlow))\n",
    "\n",
    "for i in range(len(gFlow)):\n",
    "    for j in range(1, int(m)-1):     # only need to compute energy of each angle, not each atom\n",
    "        \n",
    "        # call the function above to compute the energy\n",
    "        bending_energies[i][j] = bending_energy(i, j)\n",
    "        \n",
    "        # increase total system energy by the energy of the newly computed angle\n",
    "        total_energy[i] += bending_energies[i][j]\n",
    "        \n",
    "print(bending_energies, total_energy, sep='\\n\\n')"
   ]
  },
  {
   "cell_type": "markdown",
   "metadata": {},
   "source": [
    "## Create Animation to Check that The Force is Correct"
   ]
  },
  {
   "cell_type": "code",
   "execution_count": 235,
   "metadata": {},
   "outputs": [],
   "source": [
    "# define arrays of x, y and z coordinates to create an animated scatter plot\n",
    "x = np.zeros((len(t),int(m)))\n",
    "y = np.zeros((len(t),int(m)))\n",
    "z = np.zeros((len(t),int(m)))\n",
    "for i in range(len(t)):\n",
    "    for j in range(int(m)):\n",
    "        x[i,j] = gFlow[i,j*3]\n",
    "        y[i,j] = gFlow[i,j*3+1]\n",
    "        z[i,j] = gFlow[i,j*3+2]"
   ]
  },
  {
   "cell_type": "code",
   "execution_count": 236,
   "metadata": {
    "scrolled": false
   },
   "outputs": [
    {
     "data": {
      "application/vnd.jupyter.widget-view+json": {
       "model_id": "504d2f037fe948599864538b9cd81cec",
       "version_major": 2,
       "version_minor": 0
      },
      "text/html": [
       "<p>Failed to display Jupyter Widget of type <code>VBox</code>.</p>\n",
       "<p>\n",
       "  If you're reading this message in the Jupyter Notebook or JupyterLab Notebook, it may mean\n",
       "  that the widgets JavaScript is still loading. If this message persists, it\n",
       "  likely means that the widgets JavaScript library is either not installed or\n",
       "  not enabled. See the <a href=\"https://ipywidgets.readthedocs.io/en/stable/user_install.html\">Jupyter\n",
       "  Widgets Documentation</a> for setup instructions.\n",
       "</p>\n",
       "<p>\n",
       "  If you're reading this message in another frontend (for example, a static\n",
       "  rendering on GitHub or <a href=\"https://nbviewer.jupyter.org/\">NBViewer</a>),\n",
       "  it may mean that your frontend doesn't currently support widgets.\n",
       "</p>\n"
      ],
      "text/plain": [
       "VBox(children=(VBox(children=(Figure(animation=400.0, animation_exponent=1.0, camera_center=[0.0, 0.0, 0.0], height=500, matrix_projection=[0.0, 0.0, 0.0, 0.0, 0.0, 0.0, 0.0, 0.0, 0.0, 0.0, 0.0, 0.0, 0.0, 0.0, 0.0, 0.0], matrix_world=[0.0, 0.0, 0.0, 0.0, 0.0, 0.0, 0.0, 0.0, 0.0, 0.0, 0.0, 0.0, 0.0, 0.0, 0.0, 0.0], scatters=[Scatter(color_selected=array('white',\n",
       "      dtype='<U5'), connected=True, geo='sphere', size=array(2), size_selected=array(2.6), x=array([[-1.        , -0.2       ,  0.2       ,  1.        ],\n",
       "       [-1.00102233, -0.19897767,  0.19897767,  1.00102233],\n",
       "       [-1.00204242, -0.19795758,  0.19795758,  1.00204242],\n",
       "       ..., \n",
       "       [ 0.        ,  0.        ,  0.        ,  0.        ],\n",
       "       [ 0.        ,  0.        ,  0.        ,  0.        ],\n",
       "       [ 0.        ,  0.        ,  0.        ,  0.        ]]), y=array([[  2.00000000e+000,   0.00000000e+000,   0.00000000e+000,\n",
       "          2.00000000e+000],\n",
       "       [  1.99959046e+000,   4.09540058e-004,   4.09540058e-004,\n",
       "          1.99959046e+000],\n",
       "       [  1.99918061e+000,   8.19389420e-004,   8.19389420e-004,\n",
       "          1.99918061e+000],\n",
       "       ..., \n",
       "       [  0.00000000e+000,   0.00000000e+000,   0.00000000e+000,\n",
       "          0.00000000e+000],\n",
       "       [  0.00000000e+000,   1.63041663e-322,   0.00000000e+000,\n",
       "          0.00000000e+000],\n",
       "       [  0.00000000e+000,   0.00000000e+000,   0.00000000e+000,\n",
       "          0.00000000e+000]]), z=array([[  0.00000000e+000,   0.00000000e+000,   0.00000000e+000,\n",
       "          0.00000000e+000],\n",
       "       [  0.00000000e+000,   0.00000000e+000,   0.00000000e+000,\n",
       "          0.00000000e+000],\n",
       "       [  0.00000000e+000,   0.00000000e+000,   0.00000000e+000,\n",
       "          0.00000000e+000],\n",
       "       ..., \n",
       "       [  2.52961611e-320,   3.03553933e-320,   2.52961611e-320,\n",
       "          3.60739443e-313],\n",
       "       [  2.75859610e-313,   6.36600002e-314,   1.39128886e-320,\n",
       "          1.48539862e-313],\n",
       "       [  2.52961611e-320,   1.27319904e-313,   6.36600002e-314,\n",
       "          2.40313530e-320]])), Scatter(color_selected=None, connected=True, size=array(1), size_selected=array(1), visible_lines=True, visible_markers=False, x=array([[-1.        , -0.2       ,  0.2       ,  1.        ],\n",
       "       [-1.00102233, -0.19897767,  0.19897767,  1.00102233],\n",
       "       [-1.00204242, -0.19795758,  0.19795758,  1.00204242],\n",
       "       ..., \n",
       "       [ 0.        ,  0.        ,  0.        ,  0.        ],\n",
       "       [ 0.        ,  0.        ,  0.        ,  0.        ],\n",
       "       [ 0.        ,  0.        ,  0.        ,  0.        ]]), y=array([[  2.00000000e+000,   0.00000000e+000,   0.00000000e+000,\n",
       "          2.00000000e+000],\n",
       "       [  1.99959046e+000,   4.09540058e-004,   4.09540058e-004,\n",
       "          1.99959046e+000],\n",
       "       [  1.99918061e+000,   8.19389420e-004,   8.19389420e-004,\n",
       "          1.99918061e+000],\n",
       "       ..., \n",
       "       [  0.00000000e+000,   0.00000000e+000,   0.00000000e+000,\n",
       "          0.00000000e+000],\n",
       "       [  0.00000000e+000,   1.63041663e-322,   0.00000000e+000,\n",
       "          0.00000000e+000],\n",
       "       [  0.00000000e+000,   0.00000000e+000,   0.00000000e+000,\n",
       "          0.00000000e+000]]), z=array([[  0.00000000e+000,   0.00000000e+000,   0.00000000e+000,\n",
       "          0.00000000e+000],\n",
       "       [  0.00000000e+000,   0.00000000e+000,   0.00000000e+000,\n",
       "          0.00000000e+000],\n",
       "       [  0.00000000e+000,   0.00000000e+000,   0.00000000e+000,\n",
       "          0.00000000e+000],\n",
       "       ..., \n",
       "       [  2.52961611e-320,   3.03553933e-320,   2.52961611e-320,\n",
       "          3.60739443e-313],\n",
       "       [  2.75859610e-313,   6.36600002e-314,   1.39128886e-320,\n",
       "          1.48539862e-313],\n",
       "       [  2.52961611e-320,   1.27319904e-313,   6.36600002e-314,\n",
       "          2.40313530e-320]]))], style={'axes': {'visible': True, 'label': {'color': 'black'}, 'ticklabel': {'color': 'black'}, 'color': 'black'}, 'box': {'visible': True}, 'background-color': 'white'}, tf=None, width=400, xlim=[-10.0, 10.0], ylim=[-10.0, 10.0], zlim=[0.0, 2.0]), HBox(children=(Play(value=0, interval=400, max=499), FloatSlider(value=0.0, max=499.0, step=1.0))))), Label(value='Parameter sliders:'), IntSlider(value=15, continuous_update=False, description='beta', max=15)))"
      ]
     },
     "metadata": {},
     "output_type": "display_data"
    },
    {
     "name": "stdout",
     "output_type": "stream",
     "text": [
      "CPU times: user 313 ms, sys: 127 ms, total: 439 ms\n",
      "Wall time: 299 ms\n"
     ]
    }
   ],
   "source": [
    "%%time\n",
    "%matplotlib inline\n",
    "\n",
    "# create an ipyvolume.pylab figure for the simulation\n",
    "p3.figure()\n",
    "\n",
    "# plot a scatterplot of the arrays defined above in the figure\n",
    "s1 = p3.scatter(x, y, z, marker='sphere', connected=True)\n",
    "s2 = p3.plot(x, y, z)\n",
    "\n",
    "# set the x, y and z limits of the figure\n",
    "p3.xlim(-10,10)\n",
    "p3.ylim(-10,10)\n",
    "p3.zlim(0,2)\n",
    "\n",
    "# add animation controls to the figure\n",
    "p3.animation_control([s1, s2], interval=400)\n",
    "\n",
    "# add sliders for parameters\n",
    "beta_slider = widgets.IntSlider(min=0, max=15, step=1, value=beta, description='beta', continuous_update=False)\n",
    "\n",
    "# create handler functions to change the values of the parameters globally when the sliders change\n",
    "def on_beta_slider_change(change):\n",
    "    global beta\n",
    "    beta = change.new\n",
    "\n",
    "# set the sliders to call their handler functions any time the sliders are moved\n",
    "beta_slider.observe(on_beta_slider_change, names='value')\n",
    "\n",
    "# display the VBox beneath the total system energy plot\n",
    "label = widgets.Label('Parameter sliders:')\n",
    "parameters = widgets.VBox([ipv.gcc(), label, beta_slider])\n",
    "display(parameters)"
   ]
  },
  {
   "cell_type": "code",
   "execution_count": null,
   "metadata": {},
   "outputs": [],
   "source": []
  },
  {
   "cell_type": "code",
   "execution_count": null,
   "metadata": {},
   "outputs": [],
   "source": []
  }
 ],
 "metadata": {
  "kernelspec": {
   "display_name": "Python 3",
   "language": "python",
   "name": "python3"
  },
  "language_info": {
   "codemirror_mode": {
    "name": "ipython",
    "version": 3
   },
   "file_extension": ".py",
   "mimetype": "text/x-python",
   "name": "python",
   "nbconvert_exporter": "python",
   "pygments_lexer": "ipython3",
   "version": "3.6.0"
  }
 },
 "nbformat": 4,
 "nbformat_minor": 2
}
