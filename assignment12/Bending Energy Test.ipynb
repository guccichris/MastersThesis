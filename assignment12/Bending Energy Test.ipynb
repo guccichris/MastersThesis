{
 "cells": [
  {
   "cell_type": "code",
   "execution_count": 94,
   "metadata": {},
   "outputs": [],
   "source": [
    "import matplotlib.pyplot as plt\n",
    "import numpy as np\n",
    "from numpy.linalg import norm\n",
    "from scipy.integrate import odeint\n",
    "import pprint\n",
    "from ipywidgets import interact, interactive, fixed, interact_manual, jslink\n",
    "import ipywidgets as widgets\n",
    "import ipyvolume as ipv\n",
    "import ipyvolume.pylab as p3\n",
    "import traitlets\n",
    "import time, sys\n",
    "from IPython.core.display import clear_output\n",
    "from random import random"
   ]
  },
  {
   "cell_type": "code",
   "execution_count": 2,
   "metadata": {},
   "outputs": [],
   "source": [
    "# define the atoms in the chain (this test will only use a 3 atom chain)\n",
    "#r1 = (0, 0, 0)\n",
    "#r2 = (0, 1, 0)\n",
    "#r3 = (2, 3, 0)\n",
    "#r4 = (4, 1, 0)\n",
    "\n",
    "#floaters = np.hstack((r1, r2, r3, r4))\n",
    "\n",
    "#m = 4             # total atoms in the chain"
   ]
  },
  {
   "cell_type": "code",
   "execution_count": 104,
   "metadata": {},
   "outputs": [],
   "source": [
    "# define the number of floating atoms\n",
    "floaters = np.zeros(4*3) # set number of floaters and multiply by 3 to have 3 coords for each\n",
    "n = len(floaters)\n",
    "m = n/3                    # total atoms in the chain\n",
    "\n",
    "# set the positions of the floating atoms\n",
    "count = 0\n",
    "k = 1.7\n",
    "for i in range(0,n,3):\n",
    "    floaters[i] = random()\n",
    "    floaters[i+1] = random()\n",
    "    floaters[i+2] = random()\n",
    "    count += 1"
   ]
  },
  {
   "cell_type": "code",
   "execution_count": 112,
   "metadata": {},
   "outputs": [],
   "source": [
    "# define parameters\n",
    "beta = 200"
   ]
  },
  {
   "cell_type": "code",
   "execution_count": 138,
   "metadata": {},
   "outputs": [],
   "source": [
    "# define time interval\n",
    "t = np.linspace(0,10,50)"
   ]
  },
  {
   "cell_type": "code",
   "execution_count": 133,
   "metadata": {},
   "outputs": [],
   "source": [
    "# bending force DE system\n",
    "def bending_force(floaters, t):\n",
    "    \n",
    "    current_bending_force = np.zeros((int(m),3))\n",
    "    total_bending_force = np.zeros(int(m))\n",
    "    \n",
    "    # loop for computing bending force\n",
    "    for i in range(1,int(m-1)):          # loop through each atom not on the end of the chain and compute the bending force on it and its neighbors\n",
    "        \n",
    "        # define the pieces of the bending energy equation\n",
    "        sx_n = floaters[i*3] - floaters[(i-1)*3]\n",
    "        sx_n1 = floaters[(i+1)*3] - floaters[i*3]\n",
    "\n",
    "        sy_n = floaters[i*3 + 1] - floaters[(i-1)*3 + 1]\n",
    "        sy_n1 = floaters[(i+1)*3 + 1] - floaters[i*3 + 1]\n",
    "\n",
    "        sz_n = floaters[i*3 + 2] - floaters[(i-1)*3 + 2]\n",
    "        sz_n1 = floaters[(i+1)*3 + 2] - floaters[i*3 + 2]\n",
    "\n",
    "        A = norm((sx_n, sy_n, sz_n))*norm((sx_n1, sy_n1, sz_n1))\n",
    "\n",
    "        B = np.dot((sx_n, sy_n, sz_n),(sx_n1, sy_n1, sz_n1))\n",
    "\n",
    "        partial_common = .5/A\n",
    "        \n",
    "        # partials of A wrt x for atom n, n-1 and n+1, respectively\n",
    "        Axn = partial_common*(2*(sx_n)*(sx_n1**2) - 2*(sx_n1)*(sx_n**2) + 2*(sx_n)*(sy_n1**2) + 2*(sx_n)*(sz_n1**2) - 2*(sx_n1)*(sy_n**2) - 2*(sx_n1)*(sz_n**2))\n",
    "        Axn0 = partial_common*(-2*(sx_n)*(sx_n1**2) - 2*(sx_n)*(sy_n1**2) - 2*(sx_n)*(sz_n1**2))\n",
    "        Axn1 = partial_common*(2*(sx_n**2)*(sx_n1) + 2*(sy_n**2)*(sx_n1) + 2*(sz_n**2)*(sx_n1))\n",
    "        \n",
    "        # partials of A wrt y for atom n, n-1 and n+1, respectively\n",
    "        Ayn = partial_common*(-2*(sx_n**2)*(sy_n1) + 2*(sy_n)*(sx_n1**2) + 2*(sy_n)*(sy_n1**2) - 2*(sy_n**2)*(sy_n1) + 2*(sy_n)*(sz_n1**2) - 2*(sz_n**2)*(sy_n1))\n",
    "        Ayn0 = partial_common*(-2*(sy_n)*(sx_n1**2) - 2*(sy_n)*(sy_n1**2) - 2*(sy_n)*(sz_n1**2))\n",
    "        Ayn1 = partial_common*(2*(sy_n**2)*(sy_n1) + 2*(sz_n**2)*(sy_n1) + 2*(sx_n**2)*(sy_n1))\n",
    "        \n",
    "        # partials of A wrt z for atom n, n-1 and n+1, respectively\n",
    "        Azn = partial_common*(-2*(sx_n**2)*(sz_n1) - 2*(sy_n**2)*(sz_n1) - 2*(sz_n**2)*(sz_n1) + 2*(sz_n)*(sz_n1**2) + 2*(sz_n)*(sx_n1**2) + 2*(sz_n)*(sy_n1**2))\n",
    "        Azn0 = partial_common*(-2*(sz_n)*(sx_n1**2) -2*(sz_n)*(sy_n1**2) - 2*(sz_n)*(sz_n1**2))\n",
    "        Azn1 = partial_common*(2*(sz_n1)*(sx_n**2) + 2*(sz_n1)*(sy_n**2) + 2*(sz_n1)*(sz_n**2))\n",
    "        \n",
    "        # partials of B wrt x for atom n, n-1 and n+1, respectively\n",
    "        Bxn = floaters[(i+1)*3] - 2*floaters[i*3] + floaters[(i-1)*3]\n",
    "        Bxn0 = -floaters[(i+1)*3] + floaters[i*3]\n",
    "        Bxn1 = floaters[i*3] - floaters[(i-1)*3]\n",
    "\n",
    "        # partials of B wrt y for atom n, n-1 and n+1, respectively\n",
    "        Byn = floaters[(i+1)*3 + 1] - 2*floaters[i*3 + 1] + floaters[(i-1)*3 + 1]\n",
    "        Byn0 = -floaters[(i+1)*3 + 1] + floaters[i*3 + 1]\n",
    "        Byn1 = floaters[i*3 + 1] - floaters[(i-1)*3 + 1]\n",
    "        \n",
    "        # partials of B wrt z for atom n, n-1 and n+1, respectively\n",
    "        Bzn = floaters[(i+1)*3 + 2] - 2*floaters[i*3 + 2] + floaters[(i-1)*3 + 2]\n",
    "        Bzn0 = -floaters[(i+1)*3 + 2] + floaters[i*3 + 2]\n",
    "        Bzn1 = floaters[i*3 + 2] - floaters[(i-1)*3 + 2]\n",
    "        \n",
    "        try:\n",
    "            Eb_common = 4*beta/((A+B)**2)                   # compute common part of bending energy gradient\n",
    "            if (np.isnan(Eb_common)  or np.isinf(Eb_common) or np.isnan(A)):\n",
    "                raise ValueError('Divide by zero')\n",
    "                raise Exception\n",
    "            \n",
    "        except Exception as error:\n",
    "            print(\"Caught exception: \", error)\n",
    "            continue\n",
    "            \n",
    "        current_bending_force[i,0] += Eb_common*(A*Bxn - B*Axn)\n",
    "        current_bending_force[i,1] += Eb_common*(A*Byn - B*Ayn)\n",
    "        current_bending_force[i,2] += Eb_common*(A*Bzn - B*Azn)\n",
    "            \n",
    "        current_bending_force[i-1,0] += Eb_common*(A*Bxn0 - B*Axn0)\n",
    "        current_bending_force[i-1,1] += Eb_common*(A*Byn0 - B*Ayn0)\n",
    "        current_bending_force[i-1,2] += Eb_common*(A*Bzn0 - B*Azn0)\n",
    "            \n",
    "        current_bending_force[i+1,0] = Eb_common*(A*Bxn1 - B*Axn1)\n",
    "        current_bending_force[i+1,1] = Eb_common*(A*Byn1 - B*Ayn1)\n",
    "        current_bending_force[i+1,2] = Eb_common*(A*Bzn1 - B*Azn1)\n",
    "\n",
    "    total_bending_force = np.hstack(current_bending_force)\n",
    "    return total_bending_force"
   ]
  },
  {
   "cell_type": "code",
   "execution_count": 134,
   "metadata": {
    "scrolled": true
   },
   "outputs": [
    {
     "name": "stdout",
     "output_type": "stream",
     "text": [
      "CPU times: user 185 ms, sys: 11.6 ms, total: 197 ms\n",
      "Wall time: 188 ms\n"
     ]
    },
    {
     "name": "stderr",
     "output_type": "stream",
     "text": [
      "/anaconda/lib/python3.6/site-packages/scipy/integrate/odepack.py:218: ODEintWarning: Excess work done on this call (perhaps wrong Dfun type). Run with full_output = 1 to get quantitative information.\n",
      "  warnings.warn(warning_msg, ODEintWarning)\n"
     ]
    }
   ],
   "source": [
    "%%time\n",
    "\n",
    "# solve the system of ODEs to compute changing positions as a result of the bending force acting on the chain\n",
    "gFlow = odeint(bending_force, floaters, t, atol=1.4e-10)"
   ]
  },
  {
   "cell_type": "code",
   "execution_count": 135,
   "metadata": {
    "scrolled": true
   },
   "outputs": [
    {
     "name": "stdout",
     "output_type": "stream",
     "text": [
      "[[  9.20500708e-002   4.14341921e-001   7.22127963e-001 ...,\n",
      "    6.88665862e-001   7.48626025e-001   6.58507938e-002]\n",
      " [  1.22168436e-002   5.20394332e-002   8.59317177e-001 ...,\n",
      "    1.04849439e+000   6.48794447e-001   1.17050732e-001]\n",
      " [  6.01428955e+175   1.11317714e+171   4.19314256e+228 ...,\n",
      "    7.20870378e+159   2.43861180e-152   1.32882766e+179]\n",
      " ..., \n",
      " [  0.00000000e+000   6.36600002e-314   0.00000000e+000 ...,\n",
      "    0.00000000e+000   1.69759820e-313   0.00000000e+000]\n",
      " [  0.00000000e+000   6.36600002e-314   0.00000000e+000 ...,\n",
      "    0.00000000e+000   3.03553933e-320   0.00000000e+000]\n",
      " [  0.00000000e+000   6.36600002e-314   0.00000000e+000 ...,\n",
      "    0.00000000e+000   2.12199736e-313   0.00000000e+000]]\n"
     ]
    }
   ],
   "source": [
    "print(gFlow)"
   ]
  },
  {
   "cell_type": "markdown",
   "metadata": {},
   "source": [
    "## Create Animation to Check that The Force is Correct"
   ]
  },
  {
   "cell_type": "code",
   "execution_count": 136,
   "metadata": {},
   "outputs": [],
   "source": [
    "# define arrays of x, y and z coordinates to create an animated scatter plot\n",
    "x = np.zeros((len(t),int(m)))\n",
    "y = np.zeros((len(t),int(m)))\n",
    "z = np.zeros((len(t),int(m)))\n",
    "for i in range(len(t)):\n",
    "    for j in range(int(m)):\n",
    "        x[i,j] = gFlow[i,j*3]\n",
    "        y[i,j] = gFlow[i,j*3+1]\n",
    "        z[i,j] = gFlow[i,j*3+2]"
   ]
  },
  {
   "cell_type": "code",
   "execution_count": 137,
   "metadata": {
    "scrolled": false
   },
   "outputs": [
    {
     "data": {
      "application/vnd.jupyter.widget-view+json": {
       "model_id": "f75dc1ffbb724195808920fd917f7f0b",
       "version_major": 2,
       "version_minor": 0
      },
      "text/html": [
       "<p>Failed to display Jupyter Widget of type <code>VBox</code>.</p>\n",
       "<p>\n",
       "  If you're reading this message in the Jupyter Notebook or JupyterLab Notebook, it may mean\n",
       "  that the widgets JavaScript is still loading. If this message persists, it\n",
       "  likely means that the widgets JavaScript library is either not installed or\n",
       "  not enabled. See the <a href=\"https://ipywidgets.readthedocs.io/en/stable/user_install.html\">Jupyter\n",
       "  Widgets Documentation</a> for setup instructions.\n",
       "</p>\n",
       "<p>\n",
       "  If you're reading this message in another frontend (for example, a static\n",
       "  rendering on GitHub or <a href=\"https://nbviewer.jupyter.org/\">NBViewer</a>),\n",
       "  it may mean that your frontend doesn't currently support widgets.\n",
       "</p>\n"
      ],
      "text/plain": [
       "VBox(children=(VBox(children=(Figure(animation=400.0, animation_exponent=1.0, camera_center=[0.0, 0.0, 0.0], height=500, matrix_projection=[0.0, 0.0, 0.0, 0.0, 0.0, 0.0, 0.0, 0.0, 0.0, 0.0, 0.0, 0.0, 0.0, 0.0, 0.0, 0.0], matrix_world=[0.0, 0.0, 0.0, 0.0, 0.0, 0.0, 0.0, 0.0, 0.0, 0.0, 0.0, 0.0, 0.0, 0.0, 0.0, 0.0], scatters=[Scatter(color_selected=array('white',\n",
       "      dtype='<U5'), connected=True, geo='sphere', size=array(2), size_selected=array(2.6), x=array([[  9.20500708e-002,   3.39521804e-001,   8.07296643e-001,\n",
       "          6.88665862e-001],\n",
       "       [  1.22168436e-002,   4.08785757e-001,   4.58037394e-001,\n",
       "          1.04849439e+000],\n",
       "       [  6.01428955e+175,   5.47820448e+241,   6.01347002e-154,\n",
       "          7.20870378e+159],\n",
       "       ..., \n",
       "       [  0.00000000e+000,   0.00000000e+000,   0.00000000e+000,\n",
       "          0.00000000e+000],\n",
       "       [  0.00000000e+000,   0.00000000e+000,   0.00000000e+000,\n",
       "          0.00000000e+000],\n",
       "       [  0.00000000e+000,   0.00000000e+000,   0.00000000e+000,\n",
       "          0.00000000e+000]]), y=array([[  4.14341921e-001,   7.91221982e-002,   4.79151970e-002,\n",
       "          7.48626025e-001],\n",
       "       [  5.20394332e-002,   2.80404654e-001,   3.08766808e-001,\n",
       "          6.48794447e-001],\n",
       "       [  1.11317714e+171,   4.21476530e+198,   5.95505258e+228,\n",
       "          2.43861180e-152],\n",
       "       ..., \n",
       "       [  6.36600002e-314,   1.06099946e-313,   2.52961611e-320,\n",
       "          1.69759820e-313],\n",
       "       [  6.36600002e-314,   2.40313530e-320,   2.52961611e-320,\n",
       "          3.03553933e-320],\n",
       "       [  6.36600002e-314,   1.06099946e-313,   2.52961611e-320,\n",
       "          2.12199736e-313]]), z=array([[  7.22127963e-001,   4.48493257e-001,   8.55148085e-001,\n",
       "          6.58507938e-002],\n",
       "       [  8.59317177e-001,   5.75265083e-001,   5.39987106e-001,\n",
       "          1.17050732e-001],\n",
       "       [  4.19314256e+228,   2.09505757e-110,   2.38763339e+190,\n",
       "          1.32882766e+179],\n",
       "       ..., \n",
       "       [  0.00000000e+000,   0.00000000e+000,   0.00000000e+000,\n",
       "          0.00000000e+000],\n",
       "       [  0.00000000e+000,   0.00000000e+000,   0.00000000e+000,\n",
       "          0.00000000e+000],\n",
       "       [  0.00000000e+000,   0.00000000e+000,   0.00000000e+000,\n",
       "          0.00000000e+000]])), Scatter(color_selected=None, connected=True, size=array(1), size_selected=array(1), visible_lines=True, visible_markers=False, x=array([[  9.20500708e-002,   3.39521804e-001,   8.07296643e-001,\n",
       "          6.88665862e-001],\n",
       "       [  1.22168436e-002,   4.08785757e-001,   4.58037394e-001,\n",
       "          1.04849439e+000],\n",
       "       [  6.01428955e+175,   5.47820448e+241,   6.01347002e-154,\n",
       "          7.20870378e+159],\n",
       "       ..., \n",
       "       [  0.00000000e+000,   0.00000000e+000,   0.00000000e+000,\n",
       "          0.00000000e+000],\n",
       "       [  0.00000000e+000,   0.00000000e+000,   0.00000000e+000,\n",
       "          0.00000000e+000],\n",
       "       [  0.00000000e+000,   0.00000000e+000,   0.00000000e+000,\n",
       "          0.00000000e+000]]), y=array([[  4.14341921e-001,   7.91221982e-002,   4.79151970e-002,\n",
       "          7.48626025e-001],\n",
       "       [  5.20394332e-002,   2.80404654e-001,   3.08766808e-001,\n",
       "          6.48794447e-001],\n",
       "       [  1.11317714e+171,   4.21476530e+198,   5.95505258e+228,\n",
       "          2.43861180e-152],\n",
       "       ..., \n",
       "       [  6.36600002e-314,   1.06099946e-313,   2.52961611e-320,\n",
       "          1.69759820e-313],\n",
       "       [  6.36600002e-314,   2.40313530e-320,   2.52961611e-320,\n",
       "          3.03553933e-320],\n",
       "       [  6.36600002e-314,   1.06099946e-313,   2.52961611e-320,\n",
       "          2.12199736e-313]]), z=array([[  7.22127963e-001,   4.48493257e-001,   8.55148085e-001,\n",
       "          6.58507938e-002],\n",
       "       [  8.59317177e-001,   5.75265083e-001,   5.39987106e-001,\n",
       "          1.17050732e-001],\n",
       "       [  4.19314256e+228,   2.09505757e-110,   2.38763339e+190,\n",
       "          1.32882766e+179],\n",
       "       ..., \n",
       "       [  0.00000000e+000,   0.00000000e+000,   0.00000000e+000,\n",
       "          0.00000000e+000],\n",
       "       [  0.00000000e+000,   0.00000000e+000,   0.00000000e+000,\n",
       "          0.00000000e+000],\n",
       "       [  0.00000000e+000,   0.00000000e+000,   0.00000000e+000,\n",
       "          0.00000000e+000]]))], style={'axes': {'visible': True, 'label': {'color': 'black'}, 'ticklabel': {'color': 'black'}, 'color': 'black'}, 'box': {'visible': True}, 'background-color': 'white'}, tf=None, width=400, xlim=[-10.0, 10.0], ylim=[-10.0, 10.0], zlim=[0.0, 2.0]), HBox(children=(Play(value=0, interval=400, max=599), FloatSlider(value=0.0, max=599.0, step=1.0))))), Label(value='Parameter sliders:'), IntSlider(value=15, continuous_update=False, description='beta', max=15)))"
      ]
     },
     "metadata": {},
     "output_type": "display_data"
    },
    {
     "name": "stdout",
     "output_type": "stream",
     "text": [
      "CPU times: user 395 ms, sys: 97.2 ms, total: 493 ms\n",
      "Wall time: 391 ms\n"
     ]
    }
   ],
   "source": [
    "%%time\n",
    "%matplotlib inline\n",
    "\n",
    "# create an ipyvolume.pylab figure for the simulation\n",
    "p3.figure()\n",
    "\n",
    "# plot a scatterplot of the arrays defined above in the figure\n",
    "s1 = p3.scatter(x, y, z, marker='sphere', connected=True)\n",
    "s2 = p3.plot(x, y, z)\n",
    "\n",
    "# set the x, y and z limits of the figure\n",
    "p3.xlim(-10,10)\n",
    "p3.ylim(-10,10)\n",
    "p3.zlim(0,2)\n",
    "\n",
    "# add animation controls to the figure\n",
    "p3.animation_control([s1, s2], interval=400)\n",
    "\n",
    "# add sliders for parameters\n",
    "beta_slider = widgets.IntSlider(min=0, max=15, step=1, value=beta, description='beta', continuous_update=False)\n",
    "\n",
    "# create handler functions to change the values of the parameters globally when the sliders change\n",
    "def on_beta_slider_change(change):\n",
    "    global beta\n",
    "    beta = change.new\n",
    "\n",
    "# set the sliders to call their handler functions any time the sliders are moved\n",
    "beta_slider.observe(on_beta_slider_change, names='value')\n",
    "\n",
    "# display the VBox beneath the total system energy plot\n",
    "label = widgets.Label('Parameter sliders:')\n",
    "parameters = widgets.VBox([ipv.gcc(), label, beta_slider])\n",
    "display(parameters)"
   ]
  },
  {
   "cell_type": "code",
   "execution_count": null,
   "metadata": {},
   "outputs": [],
   "source": []
  }
 ],
 "metadata": {
  "kernelspec": {
   "display_name": "Python 3",
   "language": "python",
   "name": "python3"
  },
  "language_info": {
   "codemirror_mode": {
    "name": "ipython",
    "version": 3
   },
   "file_extension": ".py",
   "mimetype": "text/x-python",
   "name": "python",
   "nbconvert_exporter": "python",
   "pygments_lexer": "ipython3",
   "version": "3.6.0"
  }
 },
 "nbformat": 4,
 "nbformat_minor": 2
}
