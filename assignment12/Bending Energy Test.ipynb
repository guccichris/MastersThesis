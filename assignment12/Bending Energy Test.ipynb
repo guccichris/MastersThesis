{
 "cells": [
  {
   "cell_type": "code",
   "execution_count": 1,
   "metadata": {},
   "outputs": [],
   "source": [
    "import matplotlib.pyplot as plt\n",
    "import numpy as np\n",
    "from numpy.linalg import norm\n",
    "from scipy.integrate import odeint\n",
    "import pprint\n",
    "from ipywidgets import interact, interactive, fixed, interact_manual, jslink\n",
    "import ipywidgets as widgets\n",
    "import ipyvolume as ipv\n",
    "import ipyvolume.pylab as p3\n",
    "import traitlets\n",
    "import time, sys\n",
    "from IPython.core.display import clear_output"
   ]
  },
  {
   "cell_type": "code",
   "execution_count": 6,
   "metadata": {},
   "outputs": [],
   "source": [
    "# define the atoms in the chain (this test will only use a 3 atom chain)\n",
    "r1 = (0, 0, 1)\n",
    "r2 = (1, 1, 1)\n",
    "r3 = (2, 2, 1)"
   ]
  },
  {
   "cell_type": "code",
   "execution_count": null,
   "metadata": {},
   "outputs": [],
   "source": [
    "# define parameters\n",
    "beta = 1"
   ]
  },
  {
   "cell_type": "code",
   "execution_count": 5,
   "metadata": {
    "scrolled": true
   },
   "outputs": [
    {
     "data": {
      "text/plain": [
       "1"
      ]
     },
     "execution_count": 5,
     "metadata": {},
     "output_type": "execute_result"
    }
   ],
   "source": [
    "# define the pieces of the bending energy equation\n",
    "A = np.sqrt(((r2[0] - r1[0])(r3[0] - r2[0]))**2 + ((r2[0] - r1[0])(r3[1] - r2[1]))**2 + ((r2[0] - r1[0])(r3[2] - r2[2]))**2 + ((r2[1] - r1[1])(r3[0] - r2[0]))**2 + ((r2[1] - r1[1])(r3[1] - r2[1]))**2 + ((r2[1] - r1[1])(r3[2] - r2[3]))**2 + ((r2[2] - r1[2])(r3[0] - r2[0]))**2 + ((r2[2] - r1[2])(r3[1] - r2[1]))**2 + ((r2[2] - r1[2])(r3[2] - r2[2]))**2)\n",
    "B = r3[0]*r2[0] - r2[0]**2 - r3[0]*r1[0] + r2[0]*r1[0] + r3[1]*r2[1] - r2[1]**2 - r3[1]*r1[1] + r2[1]*r1[1] + r3[2]*r2[2] - r2[2]**2 - r3[2]*r1[2] + r2[2]*r1[2]\n",
    "\n",
    "Axn = .5*(1/A)*(2*(r2[0] - r1[0])(r3[0] - r2[0])**2 - 2*(r3[0] - r2[0])(r2[0] - r1[0])**2 + 2*(r2[0] - r1[0])(r3[1] - r2[1])**2 + 2*(r2[0] - r1[0])(r3[2] - r2[2])**2 - 2*(r3[0] - r2[0])(r2[1] - r1[1])**2 - 2*(r3[0] - r2[0])(r2[2] - r1[2])**2)\n",
    "Bxn = r3[0] - 2*r2[0] + r1[0]\n",
    "\n"
   ]
  },
  {
   "cell_type": "code",
   "execution_count": null,
   "metadata": {},
   "outputs": [],
   "source": []
  }
 ],
 "metadata": {
  "kernelspec": {
   "display_name": "Python 3",
   "language": "python",
   "name": "python3"
  },
  "language_info": {
   "codemirror_mode": {
    "name": "ipython",
    "version": 3
   },
   "file_extension": ".py",
   "mimetype": "text/x-python",
   "name": "python",
   "nbconvert_exporter": "python",
   "pygments_lexer": "ipython3",
   "version": "3.6.0"
  }
 },
 "nbformat": 4,
 "nbformat_minor": 2
}
